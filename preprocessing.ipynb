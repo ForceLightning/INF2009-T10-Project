{
 "cells": [
  {
   "cell_type": "code",
   "execution_count": 1,
   "metadata": {},
   "outputs": [],
   "source": [
    "import os\n",
    "import datetime\n",
    "\n",
    "import numpy as np\n",
    "import pandas as pd\n",
    "import matplotlib.pyplot as plt\n",
    "import seaborn as sns\n",
    "from tqdm.auto import tqdm"
   ]
  },
  {
   "cell_type": "code",
   "execution_count": 2,
   "metadata": {},
   "outputs": [],
   "source": [
    "DATA_PATH = './data'\n",
    "COLLECTORS = ['bryan', 'chris', 'jiayu', 'jurgen']"
   ]
  },
  {
   "cell_type": "code",
   "execution_count": 3,
   "metadata": {},
   "outputs": [
    {
     "data": {
      "application/vnd.jupyter.widget-view+json": {
       "model_id": "add713daa2954640947b5874f5892675",
       "version_major": 2,
       "version_minor": 0
      },
      "text/plain": [
       "0it [00:00, ?it/s]"
      ]
     },
     "metadata": {},
     "output_type": "display_data"
    },
    {
     "name": "stdout",
     "output_type": "stream",
     "text": [
      "Processing wifi_signal_strength.csv from bryan\n",
      "Processing wifi_signal_strength.csv from chris\n",
      "Processing wifi_signal_strength.csv from jiayu\n",
      "Processing wifi_signal_strength.csv from jurgen\n"
     ]
    },
    {
     "data": {
      "text/html": [
       "<div>\n",
       "<style scoped>\n",
       "    .dataframe tbody tr th:only-of-type {\n",
       "        vertical-align: middle;\n",
       "    }\n",
       "\n",
       "    .dataframe tbody tr th {\n",
       "        vertical-align: top;\n",
       "    }\n",
       "\n",
       "    .dataframe thead th {\n",
       "        text-align: right;\n",
       "    }\n",
       "</style>\n",
       "<table border=\"1\" class=\"dataframe\">\n",
       "  <thead>\n",
       "    <tr style=\"text-align: right;\">\n",
       "      <th></th>\n",
       "      <th>timestamp</th>\n",
       "      <th>bssid</th>\n",
       "      <th>ssid</th>\n",
       "      <th>signal_strength</th>\n",
       "      <th>device_idx</th>\n",
       "    </tr>\n",
       "  </thead>\n",
       "  <tbody>\n",
       "    <tr>\n",
       "      <th>0</th>\n",
       "      <td>20240228113709</td>\n",
       "      <td>88:9C:AD:72:B7:8D</td>\n",
       "      <td>SIT-POLY</td>\n",
       "      <td>87</td>\n",
       "      <td>0</td>\n",
       "    </tr>\n",
       "    <tr>\n",
       "      <th>1</th>\n",
       "      <td>20240228113709</td>\n",
       "      <td>88:9C:AD:E1:1D:4D</td>\n",
       "      <td>SIT-POLY</td>\n",
       "      <td>74</td>\n",
       "      <td>0</td>\n",
       "    </tr>\n",
       "    <tr>\n",
       "      <th>2</th>\n",
       "      <td>20240228113709</td>\n",
       "      <td>88:9C:AD:E0:D1:4D</td>\n",
       "      <td>SIT-POLY</td>\n",
       "      <td>65</td>\n",
       "      <td>0</td>\n",
       "    </tr>\n",
       "    <tr>\n",
       "      <th>3</th>\n",
       "      <td>20240228113709</td>\n",
       "      <td>88:9C:AD:E0:30:2D</td>\n",
       "      <td>SIT-POLY</td>\n",
       "      <td>64</td>\n",
       "      <td>0</td>\n",
       "    </tr>\n",
       "    <tr>\n",
       "      <th>4</th>\n",
       "      <td>20240228113709</td>\n",
       "      <td>88:9C:AD:E0:88:CD</td>\n",
       "      <td>SIT-POLY</td>\n",
       "      <td>59</td>\n",
       "      <td>0</td>\n",
       "    </tr>\n",
       "  </tbody>\n",
       "</table>\n",
       "</div>"
      ],
      "text/plain": [
       "        timestamp              bssid      ssid signal_strength device_idx\n",
       "0  20240228113709  88:9C:AD:72:B7:8D  SIT-POLY              87          0\n",
       "1  20240228113709  88:9C:AD:E1:1D:4D  SIT-POLY              74          0\n",
       "2  20240228113709  88:9C:AD:E0:D1:4D  SIT-POLY              65          0\n",
       "3  20240228113709  88:9C:AD:E0:30:2D  SIT-POLY              64          0\n",
       "4  20240228113709  88:9C:AD:E0:88:CD  SIT-POLY              59          0"
      ]
     },
     "execution_count": 3,
     "metadata": {},
     "output_type": "execute_result"
    }
   ],
   "source": [
    "super_df = pd.DataFrame(columns=['timestamp', 'bssid', 'ssid', 'signal_strength', 'device_idx'])\n",
    "for root, dirs, files in tqdm(os.walk(DATA_PATH)):\n",
    "    path = root.split(os.sep)\n",
    "    for file in files:\n",
    "        device_idx = COLLECTORS.index(path[1])\n",
    "        if file.endswith('.csv'):\n",
    "            print(f'Processing {file} from {path[1]}')\n",
    "            df = pd.read_csv(os.path.join(root, file), header=None, names=['timestamp', 'bssid', 'ssid', 'signal_strength'])\n",
    "            df['device_idx'] = device_idx\n",
    "            super_df = pd.concat([super_df, df], ignore_index=True)\n",
    "super_df.head()"
   ]
  },
  {
   "cell_type": "code",
   "execution_count": 4,
   "metadata": {},
   "outputs": [
    {
     "data": {
      "text/plain": [
       "array(['88:9C:AD:72:B7:8D', '88:9C:AD:E1:1D:4D', '88:9C:AD:E0:D1:4D',\n",
       "       '88:9C:AD:E0:30:2D', '88:9C:AD:E0:88:CD', '88:9C:AD:70:34:CD',\n",
       "       '88:9C:AD:70:53:6D', '88:9C:AD:E1:5E:4D', '88:9C:AD:71:0F:2D',\n",
       "       '88:9C:AD:71:51:8D', '88:9C:AD:E1:20:2D', '88:9C:AD:6F:C4:ED',\n",
       "       '88:9C:AD:77:CA:2D', '88:9C:AD:71:16:4D', '88:9C:AD:77:05:AD',\n",
       "       '88:9C:AD:77:7D:0D', '88:9C:AD:77:CA:22', '88:9C:AD:71:0B:ED',\n",
       "       '88:9C:AD:E1:22:6D', '88:9C:AD:70:BF:2D', '88:9C:AD:77:05:A2',\n",
       "       '88:9C:AD:71:0B:E2', '88:9C:AD:E0:30:22', '88:9C:AD:70:BF:22',\n",
       "       '88:9C:AD:E1:1D:42', '88:9C:AD:E1:5E:42', '88:9C:AD:71:16:42'],\n",
       "      dtype=object)"
      ]
     },
     "execution_count": 4,
     "metadata": {},
     "output_type": "execute_result"
    }
   ],
   "source": [
    "super_df['bssid'].unique()"
   ]
  },
  {
   "cell_type": "code",
   "execution_count": 5,
   "metadata": {},
   "outputs": [
    {
     "data": {
      "text/html": [
       "<div>\n",
       "<style scoped>\n",
       "    .dataframe tbody tr th:only-of-type {\n",
       "        vertical-align: middle;\n",
       "    }\n",
       "\n",
       "    .dataframe tbody tr th {\n",
       "        vertical-align: top;\n",
       "    }\n",
       "\n",
       "    .dataframe thead th {\n",
       "        text-align: right;\n",
       "    }\n",
       "</style>\n",
       "<table border=\"1\" class=\"dataframe\">\n",
       "  <thead>\n",
       "    <tr style=\"text-align: right;\">\n",
       "      <th></th>\n",
       "      <th>timestamp</th>\n",
       "      <th>bssid</th>\n",
       "      <th>ssid</th>\n",
       "      <th>signal_strength</th>\n",
       "      <th>device_idx</th>\n",
       "    </tr>\n",
       "  </thead>\n",
       "  <tbody>\n",
       "    <tr>\n",
       "      <th>0</th>\n",
       "      <td>20240228113709</td>\n",
       "      <td>88:9C:AD:72:B7:8D</td>\n",
       "      <td>SIT-POLY</td>\n",
       "      <td>87</td>\n",
       "      <td>0</td>\n",
       "    </tr>\n",
       "    <tr>\n",
       "      <th>1</th>\n",
       "      <td>20240228113709</td>\n",
       "      <td>88:9C:AD:E1:1D:4D</td>\n",
       "      <td>SIT-POLY</td>\n",
       "      <td>74</td>\n",
       "      <td>0</td>\n",
       "    </tr>\n",
       "    <tr>\n",
       "      <th>2</th>\n",
       "      <td>20240228113709</td>\n",
       "      <td>88:9C:AD:E0:D1:4D</td>\n",
       "      <td>SIT-POLY</td>\n",
       "      <td>65</td>\n",
       "      <td>0</td>\n",
       "    </tr>\n",
       "    <tr>\n",
       "      <th>3</th>\n",
       "      <td>20240228113709</td>\n",
       "      <td>88:9C:AD:E0:30:2D</td>\n",
       "      <td>SIT-POLY</td>\n",
       "      <td>64</td>\n",
       "      <td>0</td>\n",
       "    </tr>\n",
       "    <tr>\n",
       "      <th>4</th>\n",
       "      <td>20240228113709</td>\n",
       "      <td>88:9C:AD:E0:88:CD</td>\n",
       "      <td>SIT-POLY</td>\n",
       "      <td>59</td>\n",
       "      <td>0</td>\n",
       "    </tr>\n",
       "  </tbody>\n",
       "</table>\n",
       "</div>"
      ],
      "text/plain": [
       "        timestamp              bssid      ssid signal_strength device_idx\n",
       "0  20240228113709  88:9C:AD:72:B7:8D  SIT-POLY              87          0\n",
       "1  20240228113709  88:9C:AD:E1:1D:4D  SIT-POLY              74          0\n",
       "2  20240228113709  88:9C:AD:E0:D1:4D  SIT-POLY              65          0\n",
       "3  20240228113709  88:9C:AD:E0:30:2D  SIT-POLY              64          0\n",
       "4  20240228113709  88:9C:AD:E0:88:CD  SIT-POLY              59          0"
      ]
     },
     "execution_count": 5,
     "metadata": {},
     "output_type": "execute_result"
    }
   ],
   "source": [
    "super_df.head()"
   ]
  },
  {
   "cell_type": "code",
   "execution_count": 6,
   "metadata": {},
   "outputs": [
    {
     "data": {
      "text/html": [
       "<div>\n",
       "<style scoped>\n",
       "    .dataframe tbody tr th:only-of-type {\n",
       "        vertical-align: middle;\n",
       "    }\n",
       "\n",
       "    .dataframe tbody tr th {\n",
       "        vertical-align: top;\n",
       "    }\n",
       "\n",
       "    .dataframe thead th {\n",
       "        text-align: right;\n",
       "    }\n",
       "</style>\n",
       "<table border=\"1\" class=\"dataframe\">\n",
       "  <thead>\n",
       "    <tr style=\"text-align: right;\">\n",
       "      <th></th>\n",
       "      <th>timestamp</th>\n",
       "      <th>bssid</th>\n",
       "      <th>ssid</th>\n",
       "      <th>signal_strength</th>\n",
       "      <th>device_idx</th>\n",
       "    </tr>\n",
       "  </thead>\n",
       "  <tbody>\n",
       "  </tbody>\n",
       "</table>\n",
       "</div>"
      ],
      "text/plain": [
       "Empty DataFrame\n",
       "Columns: [timestamp, bssid, ssid, signal_strength, device_idx]\n",
       "Index: []"
      ]
     },
     "execution_count": 6,
     "metadata": {},
     "output_type": "execute_result"
    }
   ],
   "source": [
    "super_df[super_df['timestamp'].isna()]"
   ]
  },
  {
   "cell_type": "code",
   "execution_count": 7,
   "metadata": {},
   "outputs": [],
   "source": [
    "super_df['timestamp'] = super_df['timestamp'].apply(int).apply(str)"
   ]
  },
  {
   "cell_type": "code",
   "execution_count": 8,
   "metadata": {},
   "outputs": [
    {
     "data": {
      "text/html": [
       "<div>\n",
       "<style scoped>\n",
       "    .dataframe tbody tr th:only-of-type {\n",
       "        vertical-align: middle;\n",
       "    }\n",
       "\n",
       "    .dataframe tbody tr th {\n",
       "        vertical-align: top;\n",
       "    }\n",
       "\n",
       "    .dataframe thead th {\n",
       "        text-align: right;\n",
       "    }\n",
       "</style>\n",
       "<table border=\"1\" class=\"dataframe\">\n",
       "  <thead>\n",
       "    <tr style=\"text-align: right;\">\n",
       "      <th></th>\n",
       "      <th>timestamp</th>\n",
       "      <th>bssid</th>\n",
       "      <th>ssid</th>\n",
       "      <th>signal_strength</th>\n",
       "      <th>device_idx</th>\n",
       "    </tr>\n",
       "  </thead>\n",
       "  <tbody>\n",
       "  </tbody>\n",
       "</table>\n",
       "</div>"
      ],
      "text/plain": [
       "Empty DataFrame\n",
       "Columns: [timestamp, bssid, ssid, signal_strength, device_idx]\n",
       "Index: []"
      ]
     },
     "execution_count": 8,
     "metadata": {},
     "output_type": "execute_result"
    }
   ],
   "source": [
    "super_df[super_df['timestamp'].str.len() != 14]"
   ]
  },
  {
   "cell_type": "code",
   "execution_count": 9,
   "metadata": {},
   "outputs": [],
   "source": [
    "super_df['timestamp'] = pd.to_datetime(super_df['timestamp'], format='%Y%m%d%H%M%S')"
   ]
  },
  {
   "cell_type": "code",
   "execution_count": 10,
   "metadata": {},
   "outputs": [
    {
     "name": "stdout",
     "output_type": "stream",
     "text": [
      "{'88:9C:AD:E1:20:2D', '88:9C:AD:71:51:8D', '88:9C:AD:71:0F:2D', '88:9C:AD:77:05:AD', '88:9C:AD:77:CA:2D', '88:9C:AD:70:34:CD', '88:9C:AD:E0:88:CD', '88:9C:AD:E0:30:2D', '88:9C:AD:77:7D:0D', '88:9C:AD:E1:1D:4D', '88:9C:AD:E0:D1:4D'}\n"
     ]
    }
   ],
   "source": [
    "common_bssids = []\n",
    "for device_idx in range(4):\n",
    "    bssids = super_df[super_df['device_idx'] == device_idx]['bssid'].unique()\n",
    "    common_bssids.append(bssids)\n",
    "common_bssids = set.intersection(*map(set, common_bssids))\n",
    "print(common_bssids)"
   ]
  },
  {
   "cell_type": "code",
   "execution_count": 11,
   "metadata": {},
   "outputs": [
    {
     "name": "stdout",
     "output_type": "stream",
     "text": [
      "<class 'pandas.core.frame.DataFrame'>\n",
      "RangeIndex: 839 entries, 0 to 838\n",
      "Data columns (total 5 columns):\n",
      " #   Column           Non-Null Count  Dtype         \n",
      "---  ------           --------------  -----         \n",
      " 0   timestamp        839 non-null    datetime64[ns]\n",
      " 1   bssid            839 non-null    object        \n",
      " 2   ssid             839 non-null    object        \n",
      " 3   signal_strength  839 non-null    object        \n",
      " 4   device_idx       839 non-null    object        \n",
      "dtypes: datetime64[ns](1), object(4)\n",
      "memory usage: 32.9+ KB\n"
     ]
    }
   ],
   "source": [
    "super_df.info()"
   ]
  },
  {
   "cell_type": "code",
   "execution_count": 12,
   "metadata": {},
   "outputs": [
    {
     "data": {
      "text/plain": [
       "<DatetimeArray>\n",
       "['2024-02-28 11:39:29', '2024-02-28 12:03:29', '2024-02-28 12:32:37',\n",
       " '2024-02-28 13:00:52', '2024-02-28 13:31:02', '2024-02-28 13:59:23',\n",
       " '2024-02-28 14:29:33', '2024-02-28 15:00:24', '2024-02-28 15:29:32',\n",
       " '2024-02-28 15:59:35', '2024-03-07 12:34:28', '2024-03-07 13:31:15',\n",
       " '2024-03-07 13:48:10', '2024-03-07 14:02:39', '2024-03-07 14:17:48',\n",
       " '2024-03-07 14:34:20']\n",
       "Length: 16, dtype: datetime64[ns]"
      ]
     },
     "execution_count": 12,
     "metadata": {},
     "output_type": "execute_result"
    }
   ],
   "source": [
    "super_df[super_df['device_idx'] == 1]['timestamp'].unique()"
   ]
  },
  {
   "cell_type": "code",
   "execution_count": 13,
   "metadata": {},
   "outputs": [],
   "source": [
    "corrections = {\n",
    "    '2024-02-28 10:24:39': '2024-02-28 11:39:29',\n",
    "    '2024-02-28 10:47:32': '2024-02-28 12:03:29',\n",
    "    '2024-02-28 11:16:59': '2024-02-28 12:32:37'\n",
    "}"
   ]
  },
  {
   "cell_type": "code",
   "execution_count": 14,
   "metadata": {},
   "outputs": [],
   "source": [
    "for ts, correct_ts in corrections.items():\n",
    "    super_df.loc[super_df['timestamp'] == datetime.datetime.strptime(ts, '%Y-%m-%d %H:%M:%S'), 'timestamp'] = datetime.datetime.strptime(correct_ts, '%Y-%m-%d %H:%M:%S')"
   ]
  },
  {
   "cell_type": "code",
   "execution_count": 15,
   "metadata": {},
   "outputs": [
    {
     "data": {
      "text/plain": [
       "<Axes: xlabel='timestamp', ylabel='Count'>"
      ]
     },
     "execution_count": 15,
     "metadata": {},
     "output_type": "execute_result"
    },
    {
     "data": {
      "image/png": "[encoded data removed]",
      "text/plain": [
       "<Figure size 640x480 with 1 Axes>"
      ]
     },
     "metadata": {},
     "output_type": "display_data"
    }
   ],
   "source": [
    "sns.histplot(super_df, x='timestamp', bins=30, hue='device_idx')"
   ]
  },
  {
   "cell_type": "code",
   "execution_count": 16,
   "metadata": {},
   "outputs": [
    {
     "data": {
      "text/plain": [
       "DatetimeIndex(['2024-02-28 11:20:00', '2024-02-28 11:50:00',\n",
       "               '2024-02-28 12:20:00', '2024-02-28 12:50:00',\n",
       "               '2024-02-28 13:20:00', '2024-02-28 13:50:00',\n",
       "               '2024-02-28 14:20:00', '2024-02-28 14:50:00',\n",
       "               '2024-02-28 15:20:00', '2024-02-28 15:50:00',\n",
       "               '2024-02-28 16:20:00'],\n",
       "              dtype='datetime64[ns]', freq='30T')"
      ]
     },
     "execution_count": 16,
     "metadata": {},
     "output_type": "execute_result"
    }
   ],
   "source": [
    "bins = pd.date_range('2024-02-28 11:20:00', '2024-02-28 16:20:00', freq='30 min')\n",
    "bins"
   ]
  },
  {
   "cell_type": "code",
   "execution_count": 17,
   "metadata": {},
   "outputs": [],
   "source": [
    "super_df['binned_timestamp'] = pd.cut(super_df['timestamp'], bins=bins)"
   ]
  },
  {
   "cell_type": "code",
   "execution_count": 18,
   "metadata": {},
   "outputs": [
    {
     "data": {
      "text/plain": [
       "[(2024-02-28 11:20:00, 2024-02-28 11:50:00], (2024-02-28 11:50:00, 2024-02-28 12:20:00], (2024-02-28 12:20:00, 2024-02-28 12:50:00], (2024-02-28 12:50:00, 2024-02-28 13:20:00], (2024-02-28 13:20:00, 2024-02-28 13:50:00], ..., (2024-02-28 14:20:00, 2024-02-28 14:50:00], (2024-02-28 14:50:00, 2024-02-28 15:20:00], (2024-02-28 15:20:00, 2024-02-28 15:50:00], (2024-02-28 15:50:00, 2024-02-28 16:20:00], NaN]\n",
       "Length: 11\n",
       "Categories (10, interval[datetime64[ns], right]): [(2024-02-28 11:20:00, 2024-02-28 11:50:00] < (2024-02-28 11:50:00, 2024-02-28 12:20:00] < (2024-02-28 12:20:00, 2024-02-28 12:50:00] < (2024-02-28 12:50:00, 2024-02-28 13:20:00] ... (2024-02-28 14:20:00, 2024-02-28 14:50:00] < (2024-02-28 14:50:00, 2024-02-28 15:20:00] < (2024-02-28 15:20:00, 2024-02-28 15:50:00] < (2024-02-28 15:50:00, 2024-02-28 16:20:00]]"
      ]
     },
     "execution_count": 18,
     "metadata": {},
     "output_type": "execute_result"
    }
   ],
   "source": [
    "super_df['binned_timestamp'].unique()"
   ]
  },
  {
   "cell_type": "code",
   "execution_count": 19,
   "metadata": {},
   "outputs": [
    {
     "data": {
      "text/html": [
       "<div>\n",
       "<style scoped>\n",
       "    .dataframe tbody tr th:only-of-type {\n",
       "        vertical-align: middle;\n",
       "    }\n",
       "\n",
       "    .dataframe tbody tr th {\n",
       "        vertical-align: top;\n",
       "    }\n",
       "\n",
       "    .dataframe thead tr th {\n",
       "        text-align: left;\n",
       "    }\n",
       "\n",
       "    .dataframe thead tr:last-of-type th {\n",
       "        text-align: right;\n",
       "    }\n",
       "</style>\n",
       "<table border=\"1\" class=\"dataframe\">\n",
       "  <thead>\n",
       "    <tr>\n",
       "      <th></th>\n",
       "      <th colspan=\"21\" halign=\"left\">signal_strength</th>\n",
       "    </tr>\n",
       "    <tr>\n",
       "      <th>bssid</th>\n",
       "      <th colspan=\"4\" halign=\"left\">88:9C:AD:6F:C4:ED</th>\n",
       "      <th colspan=\"4\" halign=\"left\">88:9C:AD:70:34:CD</th>\n",
       "      <th colspan=\"2\" halign=\"left\">88:9C:AD:70:53:6D</th>\n",
       "      <th>...</th>\n",
       "      <th colspan=\"2\" halign=\"left\">88:9C:AD:E1:22:6D</th>\n",
       "      <th colspan=\"4\" halign=\"left\">88:9C:AD:E1:5E:42</th>\n",
       "      <th colspan=\"4\" halign=\"left\">88:9C:AD:E1:5E:4D</th>\n",
       "    </tr>\n",
       "    <tr>\n",
       "      <th>device_idx</th>\n",
       "      <th>0</th>\n",
       "      <th>1</th>\n",
       "      <th>2</th>\n",
       "      <th>3</th>\n",
       "      <th>0</th>\n",
       "      <th>1</th>\n",
       "      <th>2</th>\n",
       "      <th>3</th>\n",
       "      <th>0</th>\n",
       "      <th>1</th>\n",
       "      <th>...</th>\n",
       "      <th>2</th>\n",
       "      <th>3</th>\n",
       "      <th>0</th>\n",
       "      <th>1</th>\n",
       "      <th>2</th>\n",
       "      <th>3</th>\n",
       "      <th>0</th>\n",
       "      <th>1</th>\n",
       "      <th>2</th>\n",
       "      <th>3</th>\n",
       "    </tr>\n",
       "    <tr>\n",
       "      <th>binned_timestamp</th>\n",
       "      <th></th>\n",
       "      <th></th>\n",
       "      <th></th>\n",
       "      <th></th>\n",
       "      <th></th>\n",
       "      <th></th>\n",
       "      <th></th>\n",
       "      <th></th>\n",
       "      <th></th>\n",
       "      <th></th>\n",
       "      <th></th>\n",
       "      <th></th>\n",
       "      <th></th>\n",
       "      <th></th>\n",
       "      <th></th>\n",
       "      <th></th>\n",
       "      <th></th>\n",
       "      <th></th>\n",
       "      <th></th>\n",
       "      <th></th>\n",
       "      <th></th>\n",
       "    </tr>\n",
       "  </thead>\n",
       "  <tbody>\n",
       "    <tr>\n",
       "      <th>(2024-02-28 11:20:00, 2024-02-28 11:50:00]</th>\n",
       "      <td>30.0</td>\n",
       "      <td>0</td>\n",
       "      <td>79.0</td>\n",
       "      <td>24.0</td>\n",
       "      <td>54.0</td>\n",
       "      <td>24.0</td>\n",
       "      <td>29.0</td>\n",
       "      <td>0.0</td>\n",
       "      <td>52.0</td>\n",
       "      <td>0</td>\n",
       "      <td>...</td>\n",
       "      <td>75.0</td>\n",
       "      <td>62.0</td>\n",
       "      <td>0</td>\n",
       "      <td>0</td>\n",
       "      <td>69.0</td>\n",
       "      <td>0</td>\n",
       "      <td>52.0</td>\n",
       "      <td>0</td>\n",
       "      <td>0.0</td>\n",
       "      <td>0</td>\n",
       "    </tr>\n",
       "    <tr>\n",
       "      <th>(2024-02-28 11:50:00, 2024-02-28 12:20:00]</th>\n",
       "      <td>27.0</td>\n",
       "      <td>0</td>\n",
       "      <td>65.0</td>\n",
       "      <td>40.0</td>\n",
       "      <td>47.0</td>\n",
       "      <td>24.0</td>\n",
       "      <td>0.0</td>\n",
       "      <td>0.0</td>\n",
       "      <td>57.0</td>\n",
       "      <td>0</td>\n",
       "      <td>...</td>\n",
       "      <td>0.0</td>\n",
       "      <td>70.0</td>\n",
       "      <td>0</td>\n",
       "      <td>0</td>\n",
       "      <td>65.0</td>\n",
       "      <td>0</td>\n",
       "      <td>54.0</td>\n",
       "      <td>0</td>\n",
       "      <td>69.0</td>\n",
       "      <td>0</td>\n",
       "    </tr>\n",
       "    <tr>\n",
       "      <th>(2024-02-28 12:20:00, 2024-02-28 12:50:00]</th>\n",
       "      <td>34.0</td>\n",
       "      <td>0</td>\n",
       "      <td>70.0</td>\n",
       "      <td>19.0</td>\n",
       "      <td>50.0</td>\n",
       "      <td>24.0</td>\n",
       "      <td>0.0</td>\n",
       "      <td>27.0</td>\n",
       "      <td>50.0</td>\n",
       "      <td>0</td>\n",
       "      <td>...</td>\n",
       "      <td>0.0</td>\n",
       "      <td>69.0</td>\n",
       "      <td>0</td>\n",
       "      <td>0</td>\n",
       "      <td>74.0</td>\n",
       "      <td>0</td>\n",
       "      <td>55.0</td>\n",
       "      <td>0</td>\n",
       "      <td>57.0</td>\n",
       "      <td>0</td>\n",
       "    </tr>\n",
       "    <tr>\n",
       "      <th>(2024-02-28 12:50:00, 2024-02-28 13:20:00]</th>\n",
       "      <td>22.0</td>\n",
       "      <td>0</td>\n",
       "      <td>59.0</td>\n",
       "      <td>0.0</td>\n",
       "      <td>47.0</td>\n",
       "      <td>27.0</td>\n",
       "      <td>0.0</td>\n",
       "      <td>25.0</td>\n",
       "      <td>62.0</td>\n",
       "      <td>0</td>\n",
       "      <td>...</td>\n",
       "      <td>0.0</td>\n",
       "      <td>67.0</td>\n",
       "      <td>0</td>\n",
       "      <td>0</td>\n",
       "      <td>0.0</td>\n",
       "      <td>0</td>\n",
       "      <td>45.0</td>\n",
       "      <td>0</td>\n",
       "      <td>67.0</td>\n",
       "      <td>0</td>\n",
       "    </tr>\n",
       "    <tr>\n",
       "      <th>(2024-02-28 13:20:00, 2024-02-28 13:50:00]</th>\n",
       "      <td>29.0</td>\n",
       "      <td>0</td>\n",
       "      <td>0.0</td>\n",
       "      <td>0.0</td>\n",
       "      <td>54.0</td>\n",
       "      <td>24.0</td>\n",
       "      <td>0.0</td>\n",
       "      <td>32.0</td>\n",
       "      <td>55.0</td>\n",
       "      <td>0</td>\n",
       "      <td>...</td>\n",
       "      <td>0.0</td>\n",
       "      <td>69.0</td>\n",
       "      <td>0</td>\n",
       "      <td>0</td>\n",
       "      <td>0.0</td>\n",
       "      <td>0</td>\n",
       "      <td>60.0</td>\n",
       "      <td>0</td>\n",
       "      <td>0.0</td>\n",
       "      <td>0</td>\n",
       "    </tr>\n",
       "    <tr>\n",
       "      <th>(2024-02-28 13:50:00, 2024-02-28 14:20:00]</th>\n",
       "      <td>53.0</td>\n",
       "      <td>0</td>\n",
       "      <td>0.0</td>\n",
       "      <td>35.0</td>\n",
       "      <td>0.0</td>\n",
       "      <td>25.0</td>\n",
       "      <td>0.0</td>\n",
       "      <td>0.0</td>\n",
       "      <td>59.0</td>\n",
       "      <td>0</td>\n",
       "      <td>...</td>\n",
       "      <td>0.0</td>\n",
       "      <td>65.0</td>\n",
       "      <td>0</td>\n",
       "      <td>0</td>\n",
       "      <td>0.0</td>\n",
       "      <td>0</td>\n",
       "      <td>62.0</td>\n",
       "      <td>0</td>\n",
       "      <td>0.0</td>\n",
       "      <td>0</td>\n",
       "    </tr>\n",
       "    <tr>\n",
       "      <th>(2024-02-28 14:20:00, 2024-02-28 14:50:00]</th>\n",
       "      <td>52.0</td>\n",
       "      <td>0</td>\n",
       "      <td>69.0</td>\n",
       "      <td>24.0</td>\n",
       "      <td>49.0</td>\n",
       "      <td>24.0</td>\n",
       "      <td>0.0</td>\n",
       "      <td>22.0</td>\n",
       "      <td>60.5</td>\n",
       "      <td>0</td>\n",
       "      <td>...</td>\n",
       "      <td>62.0</td>\n",
       "      <td>67.0</td>\n",
       "      <td>0</td>\n",
       "      <td>0</td>\n",
       "      <td>69.0</td>\n",
       "      <td>0</td>\n",
       "      <td>58.0</td>\n",
       "      <td>0</td>\n",
       "      <td>59.0</td>\n",
       "      <td>0</td>\n",
       "    </tr>\n",
       "    <tr>\n",
       "      <th>(2024-02-28 14:50:00, 2024-02-28 15:20:00]</th>\n",
       "      <td>0.0</td>\n",
       "      <td>0</td>\n",
       "      <td>0.0</td>\n",
       "      <td>24.0</td>\n",
       "      <td>0.0</td>\n",
       "      <td>0.0</td>\n",
       "      <td>0.0</td>\n",
       "      <td>30.0</td>\n",
       "      <td>52.0</td>\n",
       "      <td>0</td>\n",
       "      <td>...</td>\n",
       "      <td>0.0</td>\n",
       "      <td>0.0</td>\n",
       "      <td>0</td>\n",
       "      <td>0</td>\n",
       "      <td>0.0</td>\n",
       "      <td>0</td>\n",
       "      <td>52.0</td>\n",
       "      <td>0</td>\n",
       "      <td>0.0</td>\n",
       "      <td>0</td>\n",
       "    </tr>\n",
       "    <tr>\n",
       "      <th>(2024-02-28 15:20:00, 2024-02-28 15:50:00]</th>\n",
       "      <td>51.5</td>\n",
       "      <td>0</td>\n",
       "      <td>70.0</td>\n",
       "      <td>20.0</td>\n",
       "      <td>51.0</td>\n",
       "      <td>24.0</td>\n",
       "      <td>0.0</td>\n",
       "      <td>30.0</td>\n",
       "      <td>59.5</td>\n",
       "      <td>0</td>\n",
       "      <td>...</td>\n",
       "      <td>0.0</td>\n",
       "      <td>0.0</td>\n",
       "      <td>0</td>\n",
       "      <td>0</td>\n",
       "      <td>69.0</td>\n",
       "      <td>0</td>\n",
       "      <td>62.5</td>\n",
       "      <td>0</td>\n",
       "      <td>60.0</td>\n",
       "      <td>0</td>\n",
       "    </tr>\n",
       "    <tr>\n",
       "      <th>(2024-02-28 15:50:00, 2024-02-28 16:20:00]</th>\n",
       "      <td>54.0</td>\n",
       "      <td>0</td>\n",
       "      <td>0.0</td>\n",
       "      <td>24.0</td>\n",
       "      <td>54.0</td>\n",
       "      <td>29.0</td>\n",
       "      <td>0.0</td>\n",
       "      <td>27.0</td>\n",
       "      <td>55.0</td>\n",
       "      <td>0</td>\n",
       "      <td>...</td>\n",
       "      <td>0.0</td>\n",
       "      <td>0.0</td>\n",
       "      <td>0</td>\n",
       "      <td>0</td>\n",
       "      <td>0.0</td>\n",
       "      <td>0</td>\n",
       "      <td>60.0</td>\n",
       "      <td>0</td>\n",
       "      <td>0.0</td>\n",
       "      <td>0</td>\n",
       "    </tr>\n",
       "  </tbody>\n",
       "</table>\n",
       "<p>10 rows × 108 columns</p>\n",
       "</div>"
      ],
      "text/plain": [
       "                                             signal_strength                  \n",
       "bssid                                      88:9C:AD:6F:C4:ED                  \n",
       "device_idx                                                 0  1     2     3   \n",
       "binned_timestamp                                                              \n",
       "(2024-02-28 11:20:00, 2024-02-28 11:50:00]              30.0  0  79.0  24.0  \\\n",
       "(2024-02-28 11:50:00, 2024-02-28 12:20:00]              27.0  0  65.0  40.0   \n",
       "(2024-02-28 12:20:00, 2024-02-28 12:50:00]              34.0  0  70.0  19.0   \n",
       "(2024-02-28 12:50:00, 2024-02-28 13:20:00]              22.0  0  59.0   0.0   \n",
       "(2024-02-28 13:20:00, 2024-02-28 13:50:00]              29.0  0   0.0   0.0   \n",
       "(2024-02-28 13:50:00, 2024-02-28 14:20:00]              53.0  0   0.0  35.0   \n",
       "(2024-02-28 14:20:00, 2024-02-28 14:50:00]              52.0  0  69.0  24.0   \n",
       "(2024-02-28 14:50:00, 2024-02-28 15:20:00]               0.0  0   0.0  24.0   \n",
       "(2024-02-28 15:20:00, 2024-02-28 15:50:00]              51.5  0  70.0  20.0   \n",
       "(2024-02-28 15:50:00, 2024-02-28 16:20:00]              54.0  0   0.0  24.0   \n",
       "\n",
       "                                                                           \n",
       "bssid                                      88:9C:AD:70:34:CD               \n",
       "device_idx                                                 0     1     2   \n",
       "binned_timestamp                                                           \n",
       "(2024-02-28 11:20:00, 2024-02-28 11:50:00]              54.0  24.0  29.0  \\\n",
       "(2024-02-28 11:50:00, 2024-02-28 12:20:00]              47.0  24.0   0.0   \n",
       "(2024-02-28 12:20:00, 2024-02-28 12:50:00]              50.0  24.0   0.0   \n",
       "(2024-02-28 12:50:00, 2024-02-28 13:20:00]              47.0  27.0   0.0   \n",
       "(2024-02-28 13:20:00, 2024-02-28 13:50:00]              54.0  24.0   0.0   \n",
       "(2024-02-28 13:50:00, 2024-02-28 14:20:00]               0.0  25.0   0.0   \n",
       "(2024-02-28 14:20:00, 2024-02-28 14:50:00]              49.0  24.0   0.0   \n",
       "(2024-02-28 14:50:00, 2024-02-28 15:20:00]               0.0   0.0   0.0   \n",
       "(2024-02-28 15:20:00, 2024-02-28 15:50:00]              51.0  24.0   0.0   \n",
       "(2024-02-28 15:50:00, 2024-02-28 16:20:00]              54.0  29.0   0.0   \n",
       "\n",
       "                                                                       ...   \n",
       "bssid                                            88:9C:AD:70:53:6D     ...   \n",
       "device_idx                                     3                 0  1  ...   \n",
       "binned_timestamp                                                       ...   \n",
       "(2024-02-28 11:20:00, 2024-02-28 11:50:00]   0.0              52.0  0  ...  \\\n",
       "(2024-02-28 11:50:00, 2024-02-28 12:20:00]   0.0              57.0  0  ...   \n",
       "(2024-02-28 12:20:00, 2024-02-28 12:50:00]  27.0              50.0  0  ...   \n",
       "(2024-02-28 12:50:00, 2024-02-28 13:20:00]  25.0              62.0  0  ...   \n",
       "(2024-02-28 13:20:00, 2024-02-28 13:50:00]  32.0              55.0  0  ...   \n",
       "(2024-02-28 13:50:00, 2024-02-28 14:20:00]   0.0              59.0  0  ...   \n",
       "(2024-02-28 14:20:00, 2024-02-28 14:50:00]  22.0              60.5  0  ...   \n",
       "(2024-02-28 14:50:00, 2024-02-28 15:20:00]  30.0              52.0  0  ...   \n",
       "(2024-02-28 15:20:00, 2024-02-28 15:50:00]  30.0              59.5  0  ...   \n",
       "(2024-02-28 15:50:00, 2024-02-28 16:20:00]  27.0              55.0  0  ...   \n",
       "\n",
       "                                                                     \n",
       "bssid                                      88:9C:AD:E1:22:6D         \n",
       "device_idx                                                 2     3   \n",
       "binned_timestamp                                                     \n",
       "(2024-02-28 11:20:00, 2024-02-28 11:50:00]              75.0  62.0  \\\n",
       "(2024-02-28 11:50:00, 2024-02-28 12:20:00]               0.0  70.0   \n",
       "(2024-02-28 12:20:00, 2024-02-28 12:50:00]               0.0  69.0   \n",
       "(2024-02-28 12:50:00, 2024-02-28 13:20:00]               0.0  67.0   \n",
       "(2024-02-28 13:20:00, 2024-02-28 13:50:00]               0.0  69.0   \n",
       "(2024-02-28 13:50:00, 2024-02-28 14:20:00]               0.0  65.0   \n",
       "(2024-02-28 14:20:00, 2024-02-28 14:50:00]              62.0  67.0   \n",
       "(2024-02-28 14:50:00, 2024-02-28 15:20:00]               0.0   0.0   \n",
       "(2024-02-28 15:20:00, 2024-02-28 15:50:00]               0.0   0.0   \n",
       "(2024-02-28 15:50:00, 2024-02-28 16:20:00]               0.0   0.0   \n",
       "\n",
       "                                                                           \n",
       "bssid                                      88:9C:AD:E1:5E:42               \n",
       "device_idx                                                 0  1     2  3   \n",
       "binned_timestamp                                                           \n",
       "(2024-02-28 11:20:00, 2024-02-28 11:50:00]                 0  0  69.0  0  \\\n",
       "(2024-02-28 11:50:00, 2024-02-28 12:20:00]                 0  0  65.0  0   \n",
       "(2024-02-28 12:20:00, 2024-02-28 12:50:00]                 0  0  74.0  0   \n",
       "(2024-02-28 12:50:00, 2024-02-28 13:20:00]                 0  0   0.0  0   \n",
       "(2024-02-28 13:20:00, 2024-02-28 13:50:00]                 0  0   0.0  0   \n",
       "(2024-02-28 13:50:00, 2024-02-28 14:20:00]                 0  0   0.0  0   \n",
       "(2024-02-28 14:20:00, 2024-02-28 14:50:00]                 0  0  69.0  0   \n",
       "(2024-02-28 14:50:00, 2024-02-28 15:20:00]                 0  0   0.0  0   \n",
       "(2024-02-28 15:20:00, 2024-02-28 15:50:00]                 0  0  69.0  0   \n",
       "(2024-02-28 15:50:00, 2024-02-28 16:20:00]                 0  0   0.0  0   \n",
       "\n",
       "                                                                          \n",
       "bssid                                      88:9C:AD:E1:5E:4D              \n",
       "device_idx                                                 0  1     2  3  \n",
       "binned_timestamp                                                          \n",
       "(2024-02-28 11:20:00, 2024-02-28 11:50:00]              52.0  0   0.0  0  \n",
       "(2024-02-28 11:50:00, 2024-02-28 12:20:00]              54.0  0  69.0  0  \n",
       "(2024-02-28 12:20:00, 2024-02-28 12:50:00]              55.0  0  57.0  0  \n",
       "(2024-02-28 12:50:00, 2024-02-28 13:20:00]              45.0  0  67.0  0  \n",
       "(2024-02-28 13:20:00, 2024-02-28 13:50:00]              60.0  0   0.0  0  \n",
       "(2024-02-28 13:50:00, 2024-02-28 14:20:00]              62.0  0   0.0  0  \n",
       "(2024-02-28 14:20:00, 2024-02-28 14:50:00]              58.0  0  59.0  0  \n",
       "(2024-02-28 14:50:00, 2024-02-28 15:20:00]              52.0  0   0.0  0  \n",
       "(2024-02-28 15:20:00, 2024-02-28 15:50:00]              62.5  0  60.0  0  \n",
       "(2024-02-28 15:50:00, 2024-02-28 16:20:00]              60.0  0   0.0  0  \n",
       "\n",
       "[10 rows x 108 columns]"
      ]
     },
     "execution_count": 19,
     "metadata": {},
     "output_type": "execute_result"
    }
   ],
   "source": [
    "pivoted_table = super_df.pivot_table(index=['binned_timestamp'], columns=['bssid', 'device_idx'], values=['signal_strength'], observed=True, fill_value=0, aggfunc='mean', dropna=False)\n",
    "pivoted_table"
   ]
  },
  {
   "cell_type": "code",
   "execution_count": 20,
   "metadata": {},
   "outputs": [],
   "source": [
    "tabular = pd.DataFrame(pivoted_table.to_records())"
   ]
  },
  {
   "cell_type": "code",
   "execution_count": 21,
   "metadata": {},
   "outputs": [],
   "source": [
    "population = [56, 128, 99, 109, 75, np.nan, 23, 38, 34, 21]\n",
    "tabular['population'] = population\n",
    "tabular.dropna(inplace=True)"
   ]
  },
  {
   "cell_type": "code",
   "execution_count": 22,
   "metadata": {},
   "outputs": [
    {
     "data": {
      "text/html": [
       "<div>\n",
       "<style scoped>\n",
       "    .dataframe tbody tr th:only-of-type {\n",
       "        vertical-align: middle;\n",
       "    }\n",
       "\n",
       "    .dataframe tbody tr th {\n",
       "        vertical-align: top;\n",
       "    }\n",
       "\n",
       "    .dataframe thead th {\n",
       "        text-align: right;\n",
       "    }\n",
       "</style>\n",
       "<table border=\"1\" class=\"dataframe\">\n",
       "  <thead>\n",
       "    <tr style=\"text-align: right;\">\n",
       "      <th></th>\n",
       "      <th>binned_timestamp</th>\n",
       "      <th>('signal_strength', '88:9C:AD:6F:C4:ED', 0)</th>\n",
       "      <th>('signal_strength', '88:9C:AD:6F:C4:ED', 1)</th>\n",
       "      <th>('signal_strength', '88:9C:AD:6F:C4:ED', 2)</th>\n",
       "      <th>('signal_strength', '88:9C:AD:6F:C4:ED', 3)</th>\n",
       "      <th>('signal_strength', '88:9C:AD:70:34:CD', 0)</th>\n",
       "      <th>('signal_strength', '88:9C:AD:70:34:CD', 1)</th>\n",
       "      <th>('signal_strength', '88:9C:AD:70:34:CD', 2)</th>\n",
       "      <th>('signal_strength', '88:9C:AD:70:34:CD', 3)</th>\n",
       "      <th>('signal_strength', '88:9C:AD:70:53:6D', 0)</th>\n",
       "      <th>...</th>\n",
       "      <th>('signal_strength', '88:9C:AD:E1:22:6D', 3)</th>\n",
       "      <th>('signal_strength', '88:9C:AD:E1:5E:42', 0)</th>\n",
       "      <th>('signal_strength', '88:9C:AD:E1:5E:42', 1)</th>\n",
       "      <th>('signal_strength', '88:9C:AD:E1:5E:42', 2)</th>\n",
       "      <th>('signal_strength', '88:9C:AD:E1:5E:42', 3)</th>\n",
       "      <th>('signal_strength', '88:9C:AD:E1:5E:4D', 0)</th>\n",
       "      <th>('signal_strength', '88:9C:AD:E1:5E:4D', 1)</th>\n",
       "      <th>('signal_strength', '88:9C:AD:E1:5E:4D', 2)</th>\n",
       "      <th>('signal_strength', '88:9C:AD:E1:5E:4D', 3)</th>\n",
       "      <th>population</th>\n",
       "    </tr>\n",
       "  </thead>\n",
       "  <tbody>\n",
       "    <tr>\n",
       "      <th>0</th>\n",
       "      <td>(2024-02-28 11:20:00, 2024-02-28 11:50:00]</td>\n",
       "      <td>30.0</td>\n",
       "      <td>0</td>\n",
       "      <td>79.0</td>\n",
       "      <td>24.0</td>\n",
       "      <td>54.0</td>\n",
       "      <td>24.0</td>\n",
       "      <td>29.0</td>\n",
       "      <td>0.0</td>\n",
       "      <td>52.0</td>\n",
       "      <td>...</td>\n",
       "      <td>62.0</td>\n",
       "      <td>0</td>\n",
       "      <td>0</td>\n",
       "      <td>69.0</td>\n",
       "      <td>0</td>\n",
       "      <td>52.0</td>\n",
       "      <td>0</td>\n",
       "      <td>0.0</td>\n",
       "      <td>0</td>\n",
       "      <td>56.0</td>\n",
       "    </tr>\n",
       "    <tr>\n",
       "      <th>1</th>\n",
       "      <td>(2024-02-28 11:50:00, 2024-02-28 12:20:00]</td>\n",
       "      <td>27.0</td>\n",
       "      <td>0</td>\n",
       "      <td>65.0</td>\n",
       "      <td>40.0</td>\n",
       "      <td>47.0</td>\n",
       "      <td>24.0</td>\n",
       "      <td>0.0</td>\n",
       "      <td>0.0</td>\n",
       "      <td>57.0</td>\n",
       "      <td>...</td>\n",
       "      <td>70.0</td>\n",
       "      <td>0</td>\n",
       "      <td>0</td>\n",
       "      <td>65.0</td>\n",
       "      <td>0</td>\n",
       "      <td>54.0</td>\n",
       "      <td>0</td>\n",
       "      <td>69.0</td>\n",
       "      <td>0</td>\n",
       "      <td>128.0</td>\n",
       "    </tr>\n",
       "    <tr>\n",
       "      <th>2</th>\n",
       "      <td>(2024-02-28 12:20:00, 2024-02-28 12:50:00]</td>\n",
       "      <td>34.0</td>\n",
       "      <td>0</td>\n",
       "      <td>70.0</td>\n",
       "      <td>19.0</td>\n",
       "      <td>50.0</td>\n",
       "      <td>24.0</td>\n",
       "      <td>0.0</td>\n",
       "      <td>27.0</td>\n",
       "      <td>50.0</td>\n",
       "      <td>...</td>\n",
       "      <td>69.0</td>\n",
       "      <td>0</td>\n",
       "      <td>0</td>\n",
       "      <td>74.0</td>\n",
       "      <td>0</td>\n",
       "      <td>55.0</td>\n",
       "      <td>0</td>\n",
       "      <td>57.0</td>\n",
       "      <td>0</td>\n",
       "      <td>99.0</td>\n",
       "    </tr>\n",
       "    <tr>\n",
       "      <th>3</th>\n",
       "      <td>(2024-02-28 12:50:00, 2024-02-28 13:20:00]</td>\n",
       "      <td>22.0</td>\n",
       "      <td>0</td>\n",
       "      <td>59.0</td>\n",
       "      <td>0.0</td>\n",
       "      <td>47.0</td>\n",
       "      <td>27.0</td>\n",
       "      <td>0.0</td>\n",
       "      <td>25.0</td>\n",
       "      <td>62.0</td>\n",
       "      <td>...</td>\n",
       "      <td>67.0</td>\n",
       "      <td>0</td>\n",
       "      <td>0</td>\n",
       "      <td>0.0</td>\n",
       "      <td>0</td>\n",
       "      <td>45.0</td>\n",
       "      <td>0</td>\n",
       "      <td>67.0</td>\n",
       "      <td>0</td>\n",
       "      <td>109.0</td>\n",
       "    </tr>\n",
       "    <tr>\n",
       "      <th>4</th>\n",
       "      <td>(2024-02-28 13:20:00, 2024-02-28 13:50:00]</td>\n",
       "      <td>29.0</td>\n",
       "      <td>0</td>\n",
       "      <td>0.0</td>\n",
       "      <td>0.0</td>\n",
       "      <td>54.0</td>\n",
       "      <td>24.0</td>\n",
       "      <td>0.0</td>\n",
       "      <td>32.0</td>\n",
       "      <td>55.0</td>\n",
       "      <td>...</td>\n",
       "      <td>69.0</td>\n",
       "      <td>0</td>\n",
       "      <td>0</td>\n",
       "      <td>0.0</td>\n",
       "      <td>0</td>\n",
       "      <td>60.0</td>\n",
       "      <td>0</td>\n",
       "      <td>0.0</td>\n",
       "      <td>0</td>\n",
       "      <td>75.0</td>\n",
       "    </tr>\n",
       "    <tr>\n",
       "      <th>6</th>\n",
       "      <td>(2024-02-28 14:20:00, 2024-02-28 14:50:00]</td>\n",
       "      <td>52.0</td>\n",
       "      <td>0</td>\n",
       "      <td>69.0</td>\n",
       "      <td>24.0</td>\n",
       "      <td>49.0</td>\n",
       "      <td>24.0</td>\n",
       "      <td>0.0</td>\n",
       "      <td>22.0</td>\n",
       "      <td>60.5</td>\n",
       "      <td>...</td>\n",
       "      <td>67.0</td>\n",
       "      <td>0</td>\n",
       "      <td>0</td>\n",
       "      <td>69.0</td>\n",
       "      <td>0</td>\n",
       "      <td>58.0</td>\n",
       "      <td>0</td>\n",
       "      <td>59.0</td>\n",
       "      <td>0</td>\n",
       "      <td>23.0</td>\n",
       "    </tr>\n",
       "    <tr>\n",
       "      <th>7</th>\n",
       "      <td>(2024-02-28 14:50:00, 2024-02-28 15:20:00]</td>\n",
       "      <td>0.0</td>\n",
       "      <td>0</td>\n",
       "      <td>0.0</td>\n",
       "      <td>24.0</td>\n",
       "      <td>0.0</td>\n",
       "      <td>0.0</td>\n",
       "      <td>0.0</td>\n",
       "      <td>30.0</td>\n",
       "      <td>52.0</td>\n",
       "      <td>...</td>\n",
       "      <td>0.0</td>\n",
       "      <td>0</td>\n",
       "      <td>0</td>\n",
       "      <td>0.0</td>\n",
       "      <td>0</td>\n",
       "      <td>52.0</td>\n",
       "      <td>0</td>\n",
       "      <td>0.0</td>\n",
       "      <td>0</td>\n",
       "      <td>38.0</td>\n",
       "    </tr>\n",
       "    <tr>\n",
       "      <th>8</th>\n",
       "      <td>(2024-02-28 15:20:00, 2024-02-28 15:50:00]</td>\n",
       "      <td>51.5</td>\n",
       "      <td>0</td>\n",
       "      <td>70.0</td>\n",
       "      <td>20.0</td>\n",
       "      <td>51.0</td>\n",
       "      <td>24.0</td>\n",
       "      <td>0.0</td>\n",
       "      <td>30.0</td>\n",
       "      <td>59.5</td>\n",
       "      <td>...</td>\n",
       "      <td>0.0</td>\n",
       "      <td>0</td>\n",
       "      <td>0</td>\n",
       "      <td>69.0</td>\n",
       "      <td>0</td>\n",
       "      <td>62.5</td>\n",
       "      <td>0</td>\n",
       "      <td>60.0</td>\n",
       "      <td>0</td>\n",
       "      <td>34.0</td>\n",
       "    </tr>\n",
       "    <tr>\n",
       "      <th>9</th>\n",
       "      <td>(2024-02-28 15:50:00, 2024-02-28 16:20:00]</td>\n",
       "      <td>54.0</td>\n",
       "      <td>0</td>\n",
       "      <td>0.0</td>\n",
       "      <td>24.0</td>\n",
       "      <td>54.0</td>\n",
       "      <td>29.0</td>\n",
       "      <td>0.0</td>\n",
       "      <td>27.0</td>\n",
       "      <td>55.0</td>\n",
       "      <td>...</td>\n",
       "      <td>0.0</td>\n",
       "      <td>0</td>\n",
       "      <td>0</td>\n",
       "      <td>0.0</td>\n",
       "      <td>0</td>\n",
       "      <td>60.0</td>\n",
       "      <td>0</td>\n",
       "      <td>0.0</td>\n",
       "      <td>0</td>\n",
       "      <td>21.0</td>\n",
       "    </tr>\n",
       "  </tbody>\n",
       "</table>\n",
       "<p>9 rows × 110 columns</p>\n",
       "</div>"
      ],
      "text/plain": [
       "                             binned_timestamp   \n",
       "0  (2024-02-28 11:20:00, 2024-02-28 11:50:00]  \\\n",
       "1  (2024-02-28 11:50:00, 2024-02-28 12:20:00]   \n",
       "2  (2024-02-28 12:20:00, 2024-02-28 12:50:00]   \n",
       "3  (2024-02-28 12:50:00, 2024-02-28 13:20:00]   \n",
       "4  (2024-02-28 13:20:00, 2024-02-28 13:50:00]   \n",
       "6  (2024-02-28 14:20:00, 2024-02-28 14:50:00]   \n",
       "7  (2024-02-28 14:50:00, 2024-02-28 15:20:00]   \n",
       "8  (2024-02-28 15:20:00, 2024-02-28 15:50:00]   \n",
       "9  (2024-02-28 15:50:00, 2024-02-28 16:20:00]   \n",
       "\n",
       "   ('signal_strength', '88:9C:AD:6F:C4:ED', 0)   \n",
       "0                                         30.0  \\\n",
       "1                                         27.0   \n",
       "2                                         34.0   \n",
       "3                                         22.0   \n",
       "4                                         29.0   \n",
       "6                                         52.0   \n",
       "7                                          0.0   \n",
       "8                                         51.5   \n",
       "9                                         54.0   \n",
       "\n",
       "   ('signal_strength', '88:9C:AD:6F:C4:ED', 1)   \n",
       "0                                            0  \\\n",
       "1                                            0   \n",
       "2                                            0   \n",
       "3                                            0   \n",
       "4                                            0   \n",
       "6                                            0   \n",
       "7                                            0   \n",
       "8                                            0   \n",
       "9                                            0   \n",
       "\n",
       "   ('signal_strength', '88:9C:AD:6F:C4:ED', 2)   \n",
       "0                                         79.0  \\\n",
       "1                                         65.0   \n",
       "2                                         70.0   \n",
       "3                                         59.0   \n",
       "4                                          0.0   \n",
       "6                                         69.0   \n",
       "7                                          0.0   \n",
       "8                                         70.0   \n",
       "9                                          0.0   \n",
       "\n",
       "   ('signal_strength', '88:9C:AD:6F:C4:ED', 3)   \n",
       "0                                         24.0  \\\n",
       "1                                         40.0   \n",
       "2                                         19.0   \n",
       "3                                          0.0   \n",
       "4                                          0.0   \n",
       "6                                         24.0   \n",
       "7                                         24.0   \n",
       "8                                         20.0   \n",
       "9                                         24.0   \n",
       "\n",
       "   ('signal_strength', '88:9C:AD:70:34:CD', 0)   \n",
       "0                                         54.0  \\\n",
       "1                                         47.0   \n",
       "2                                         50.0   \n",
       "3                                         47.0   \n",
       "4                                         54.0   \n",
       "6                                         49.0   \n",
       "7                                          0.0   \n",
       "8                                         51.0   \n",
       "9                                         54.0   \n",
       "\n",
       "   ('signal_strength', '88:9C:AD:70:34:CD', 1)   \n",
       "0                                         24.0  \\\n",
       "1                                         24.0   \n",
       "2                                         24.0   \n",
       "3                                         27.0   \n",
       "4                                         24.0   \n",
       "6                                         24.0   \n",
       "7                                          0.0   \n",
       "8                                         24.0   \n",
       "9                                         29.0   \n",
       "\n",
       "   ('signal_strength', '88:9C:AD:70:34:CD', 2)   \n",
       "0                                         29.0  \\\n",
       "1                                          0.0   \n",
       "2                                          0.0   \n",
       "3                                          0.0   \n",
       "4                                          0.0   \n",
       "6                                          0.0   \n",
       "7                                          0.0   \n",
       "8                                          0.0   \n",
       "9                                          0.0   \n",
       "\n",
       "   ('signal_strength', '88:9C:AD:70:34:CD', 3)   \n",
       "0                                          0.0  \\\n",
       "1                                          0.0   \n",
       "2                                         27.0   \n",
       "3                                         25.0   \n",
       "4                                         32.0   \n",
       "6                                         22.0   \n",
       "7                                         30.0   \n",
       "8                                         30.0   \n",
       "9                                         27.0   \n",
       "\n",
       "   ('signal_strength', '88:9C:AD:70:53:6D', 0)  ...   \n",
       "0                                         52.0  ...  \\\n",
       "1                                         57.0  ...   \n",
       "2                                         50.0  ...   \n",
       "3                                         62.0  ...   \n",
       "4                                         55.0  ...   \n",
       "6                                         60.5  ...   \n",
       "7                                         52.0  ...   \n",
       "8                                         59.5  ...   \n",
       "9                                         55.0  ...   \n",
       "\n",
       "   ('signal_strength', '88:9C:AD:E1:22:6D', 3)   \n",
       "0                                         62.0  \\\n",
       "1                                         70.0   \n",
       "2                                         69.0   \n",
       "3                                         67.0   \n",
       "4                                         69.0   \n",
       "6                                         67.0   \n",
       "7                                          0.0   \n",
       "8                                          0.0   \n",
       "9                                          0.0   \n",
       "\n",
       "   ('signal_strength', '88:9C:AD:E1:5E:42', 0)   \n",
       "0                                            0  \\\n",
       "1                                            0   \n",
       "2                                            0   \n",
       "3                                            0   \n",
       "4                                            0   \n",
       "6                                            0   \n",
       "7                                            0   \n",
       "8                                            0   \n",
       "9                                            0   \n",
       "\n",
       "   ('signal_strength', '88:9C:AD:E1:5E:42', 1)   \n",
       "0                                            0  \\\n",
       "1                                            0   \n",
       "2                                            0   \n",
       "3                                            0   \n",
       "4                                            0   \n",
       "6                                            0   \n",
       "7                                            0   \n",
       "8                                            0   \n",
       "9                                            0   \n",
       "\n",
       "   ('signal_strength', '88:9C:AD:E1:5E:42', 2)   \n",
       "0                                         69.0  \\\n",
       "1                                         65.0   \n",
       "2                                         74.0   \n",
       "3                                          0.0   \n",
       "4                                          0.0   \n",
       "6                                         69.0   \n",
       "7                                          0.0   \n",
       "8                                         69.0   \n",
       "9                                          0.0   \n",
       "\n",
       "   ('signal_strength', '88:9C:AD:E1:5E:42', 3)   \n",
       "0                                            0  \\\n",
       "1                                            0   \n",
       "2                                            0   \n",
       "3                                            0   \n",
       "4                                            0   \n",
       "6                                            0   \n",
       "7                                            0   \n",
       "8                                            0   \n",
       "9                                            0   \n",
       "\n",
       "   ('signal_strength', '88:9C:AD:E1:5E:4D', 0)   \n",
       "0                                         52.0  \\\n",
       "1                                         54.0   \n",
       "2                                         55.0   \n",
       "3                                         45.0   \n",
       "4                                         60.0   \n",
       "6                                         58.0   \n",
       "7                                         52.0   \n",
       "8                                         62.5   \n",
       "9                                         60.0   \n",
       "\n",
       "   ('signal_strength', '88:9C:AD:E1:5E:4D', 1)   \n",
       "0                                            0  \\\n",
       "1                                            0   \n",
       "2                                            0   \n",
       "3                                            0   \n",
       "4                                            0   \n",
       "6                                            0   \n",
       "7                                            0   \n",
       "8                                            0   \n",
       "9                                            0   \n",
       "\n",
       "   ('signal_strength', '88:9C:AD:E1:5E:4D', 2)   \n",
       "0                                          0.0  \\\n",
       "1                                         69.0   \n",
       "2                                         57.0   \n",
       "3                                         67.0   \n",
       "4                                          0.0   \n",
       "6                                         59.0   \n",
       "7                                          0.0   \n",
       "8                                         60.0   \n",
       "9                                          0.0   \n",
       "\n",
       "   ('signal_strength', '88:9C:AD:E1:5E:4D', 3)  population  \n",
       "0                                            0        56.0  \n",
       "1                                            0       128.0  \n",
       "2                                            0        99.0  \n",
       "3                                            0       109.0  \n",
       "4                                            0        75.0  \n",
       "6                                            0        23.0  \n",
       "7                                            0        38.0  \n",
       "8                                            0        34.0  \n",
       "9                                            0        21.0  \n",
       "\n",
       "[9 rows x 110 columns]"
      ]
     },
     "execution_count": 22,
     "metadata": {},
     "output_type": "execute_result"
    }
   ],
   "source": [
    "tabular"
   ]
  },
  {
   "cell_type": "code",
   "execution_count": 23,
   "metadata": {},
   "outputs": [
    {
     "data": {
      "text/plain": [
       "\"('signal_strength', '88:9C:AD:6F:C4:ED', 0)\""
      ]
     },
     "execution_count": 23,
     "metadata": {},
     "output_type": "execute_result"
    }
   ],
   "source": [
    "tabular.columns[1]"
   ]
  },
  {
   "cell_type": "code",
   "execution_count": 24,
   "metadata": {},
   "outputs": [
    {
     "name": "stderr",
     "output_type": "stream",
     "text": [
      "C:\\Users\\melty\\AppData\\Local\\Temp\\ipykernel_15656\\1976388438.py:2: UserWarning: FixedFormatter should only be used together with FixedLocator\n",
      "  ax.set_xticklabels(ax.get_xticklabels(), rotation=90)\n"
     ]
    },
    {
     "data": {
      "text/plain": [
       "[Text(0, 0, '88:9C:AD:72:B7:8D'),\n",
       " Text(1, 0, '88:9C:AD:E1:1D:4D'),\n",
       " Text(2, 0, '88:9C:AD:E0:D1:4D'),\n",
       " Text(3, 0, '88:9C:AD:E0:30:2D'),\n",
       " Text(4, 0, '88:9C:AD:E0:88:CD'),\n",
       " Text(5, 0, '88:9C:AD:70:34:CD'),\n",
       " Text(6, 0, '88:9C:AD:70:53:6D'),\n",
       " Text(7, 0, '88:9C:AD:E1:5E:4D'),\n",
       " Text(8, 0, '88:9C:AD:71:0F:2D'),\n",
       " Text(9, 0, '88:9C:AD:71:51:8D'),\n",
       " Text(10, 0, '88:9C:AD:E1:20:2D'),\n",
       " Text(11, 0, '88:9C:AD:6F:C4:ED'),\n",
       " Text(12, 0, '88:9C:AD:77:CA:2D'),\n",
       " Text(13, 0, '88:9C:AD:71:16:4D'),\n",
       " Text(14, 0, '88:9C:AD:77:05:AD'),\n",
       " Text(15, 0, '88:9C:AD:77:7D:0D'),\n",
       " Text(16, 0, '88:9C:AD:77:CA:22'),\n",
       " Text(17, 0, '88:9C:AD:71:0B:ED'),\n",
       " Text(18, 0, '88:9C:AD:E1:22:6D'),\n",
       " Text(19, 0, '88:9C:AD:70:BF:2D'),\n",
       " Text(20, 0, '88:9C:AD:77:05:A2'),\n",
       " Text(21, 0, '88:9C:AD:71:0B:E2'),\n",
       " Text(22, 0, '88:9C:AD:E0:30:22'),\n",
       " Text(23, 0, '88:9C:AD:70:BF:22'),\n",
       " Text(24, 0, '88:9C:AD:E1:1D:42'),\n",
       " Text(25, 0, '88:9C:AD:E1:5E:42'),\n",
       " Text(26, 0, '88:9C:AD:71:16:42')]"
      ]
     },
     "execution_count": 24,
     "metadata": {},
     "output_type": "execute_result"
    },
    {
     "data": {
      "image/png": "[encoded data removed]",
      "text/plain": [
       "<Figure size 640x480 with 1 Axes>"
      ]
     },
     "metadata": {},
     "output_type": "display_data"
    }
   ],
   "source": [
    "ax = sns.histplot(super_df, x='bssid', y='device_idx')\n",
    "ax.set_xticklabels(ax.get_xticklabels(), rotation=90)"
   ]
  },
  {
   "cell_type": "code",
   "execution_count": 25,
   "metadata": {},
   "outputs": [
    {
     "data": {
      "text/plain": [
       "Timestamp('2024-02-28 11:30:00')"
      ]
     },
     "execution_count": 25,
     "metadata": {},
     "output_type": "execute_result"
    }
   ],
   "source": [
    "super_df['binned_timestamp'][0].left + datetime.timedelta(minutes=10)"
   ]
  },
  {
   "cell_type": "code",
   "execution_count": 26,
   "metadata": {},
   "outputs": [
    {
     "name": "stdout",
     "output_type": "stream",
     "text": [
      "<class 'pandas.core.frame.DataFrame'>\n",
      "RangeIndex: 839 entries, 0 to 838\n",
      "Data columns (total 6 columns):\n",
      " #   Column            Non-Null Count  Dtype         \n",
      "---  ------            --------------  -----         \n",
      " 0   timestamp         839 non-null    datetime64[ns]\n",
      " 1   bssid             839 non-null    object        \n",
      " 2   ssid              839 non-null    object        \n",
      " 3   signal_strength   839 non-null    object        \n",
      " 4   device_idx        839 non-null    object        \n",
      " 5   binned_timestamp  489 non-null    category      \n",
      "dtypes: category(1), datetime64[ns](1), object(4)\n",
      "memory usage: 34.2+ KB\n"
     ]
    }
   ],
   "source": [
    "super_df.info()\n",
    "super_df['binned_timestamp_str'] = super_df['binned_timestamp'].apply(lambda x: x.left + datetime.timedelta(minutes=10)).apply(datetime.datetime.strftime, format='%Y-%m-%d %H:%M:%S')"
   ]
  },
  {
   "cell_type": "code",
   "execution_count": 27,
   "metadata": {},
   "outputs": [
    {
     "name": "stderr",
     "output_type": "stream",
     "text": [
      "C:\\Users\\melty\\AppData\\Local\\Temp\\ipykernel_15656\\936762956.py:2: UserWarning: FixedFormatter should only be used together with FixedLocator\n",
      "  ax.set_xticklabels(ax.get_xticklabels(), rotation=90)\n"
     ]
    },
    {
     "data": {
      "text/plain": [
       "[Text(0, 0, '88:9C:AD:72:B7:8D'),\n",
       " Text(1, 0, '88:9C:AD:E1:1D:4D'),\n",
       " Text(2, 0, '88:9C:AD:E0:D1:4D'),\n",
       " Text(3, 0, '88:9C:AD:E0:30:2D'),\n",
       " Text(4, 0, '88:9C:AD:E0:88:CD'),\n",
       " Text(5, 0, '88:9C:AD:70:34:CD'),\n",
       " Text(6, 0, '88:9C:AD:70:53:6D'),\n",
       " Text(7, 0, '88:9C:AD:E1:5E:4D'),\n",
       " Text(8, 0, '88:9C:AD:71:0F:2D'),\n",
       " Text(9, 0, '88:9C:AD:71:51:8D'),\n",
       " Text(10, 0, '88:9C:AD:E1:20:2D'),\n",
       " Text(11, 0, '88:9C:AD:6F:C4:ED'),\n",
       " Text(12, 0, '88:9C:AD:77:CA:2D'),\n",
       " Text(13, 0, '88:9C:AD:71:16:4D'),\n",
       " Text(14, 0, '88:9C:AD:77:05:AD'),\n",
       " Text(15, 0, '88:9C:AD:77:7D:0D'),\n",
       " Text(16, 0, '88:9C:AD:77:CA:22'),\n",
       " Text(17, 0, '88:9C:AD:71:0B:ED'),\n",
       " Text(18, 0, '88:9C:AD:E1:22:6D'),\n",
       " Text(19, 0, '88:9C:AD:70:BF:2D'),\n",
       " Text(20, 0, '88:9C:AD:77:05:A2'),\n",
       " Text(21, 0, '88:9C:AD:71:0B:E2'),\n",
       " Text(22, 0, '88:9C:AD:E0:30:22'),\n",
       " Text(23, 0, '88:9C:AD:70:BF:22'),\n",
       " Text(24, 0, '88:9C:AD:E1:1D:42'),\n",
       " Text(25, 0, '88:9C:AD:E1:5E:42'),\n",
       " Text(26, 0, '88:9C:AD:71:16:42')]"
      ]
     },
     "execution_count": 27,
     "metadata": {},
     "output_type": "execute_result"
    },
    {
     "data": {
      "image/png": "[encoded data removed]",
      "text/plain": [
       "<Figure size 640x480 with 1 Axes>"
      ]
     },
     "metadata": {},
     "output_type": "display_data"
    }
   ],
   "source": [
    "ax = sns.histplot(super_df, x='bssid', y='binned_timestamp_str', hue='device_idx')\n",
    "ax.set_xticklabels(ax.get_xticklabels(), rotation=90)"
   ]
  },
  {
   "cell_type": "markdown",
   "metadata": {},
   "source": [
    "# MLR"
   ]
  },
  {
   "cell_type": "code",
   "execution_count": 28,
   "metadata": {},
   "outputs": [],
   "source": [
    "from sklearn.linear_model import LinearRegression\n",
    "from sklearn.model_selection import train_test_split, KFold"
   ]
  },
  {
   "cell_type": "code",
   "execution_count": 29,
   "metadata": {},
   "outputs": [],
   "source": [
    "FOLDS = 3"
   ]
  },
  {
   "cell_type": "code",
   "execution_count": 30,
   "metadata": {},
   "outputs": [
    {
     "data": {
      "text/plain": [
       "[1,\n",
       " 5,\n",
       " 9,\n",
       " 13,\n",
       " 17,\n",
       " 21,\n",
       " 25,\n",
       " 29,\n",
       " 33,\n",
       " 37,\n",
       " 41,\n",
       " 45,\n",
       " 49,\n",
       " 53,\n",
       " 57,\n",
       " 61,\n",
       " 65,\n",
       " 69,\n",
       " 73,\n",
       " 77,\n",
       " 81,\n",
       " 85,\n",
       " 89,\n",
       " 93,\n",
       " 97,\n",
       " 101]"
      ]
     },
     "execution_count": 30,
     "metadata": {},
     "output_type": "execute_result"
    }
   ],
   "source": [
    "[1 + i * 4 for i in range(26)]"
   ]
  },
  {
   "cell_type": "code",
   "execution_count": 31,
   "metadata": {},
   "outputs": [
    {
     "data": {
      "text/html": [
       "<div>\n",
       "<style scoped>\n",
       "    .dataframe tbody tr th:only-of-type {\n",
       "        vertical-align: middle;\n",
       "    }\n",
       "\n",
       "    .dataframe tbody tr th {\n",
       "        vertical-align: top;\n",
       "    }\n",
       "\n",
       "    .dataframe thead th {\n",
       "        text-align: right;\n",
       "    }\n",
       "</style>\n",
       "<table border=\"1\" class=\"dataframe\">\n",
       "  <thead>\n",
       "    <tr style=\"text-align: right;\">\n",
       "      <th></th>\n",
       "      <th>('signal_strength', '88:9C:AD:6F:C4:ED', 3)</th>\n",
       "      <th>('signal_strength', '88:9C:AD:70:34:CD', 3)</th>\n",
       "      <th>('signal_strength', '88:9C:AD:70:53:6D', 3)</th>\n",
       "      <th>('signal_strength', '88:9C:AD:70:BF:22', 3)</th>\n",
       "      <th>('signal_strength', '88:9C:AD:70:BF:2D', 3)</th>\n",
       "      <th>('signal_strength', '88:9C:AD:71:0B:E2', 3)</th>\n",
       "      <th>('signal_strength', '88:9C:AD:71:0B:ED', 3)</th>\n",
       "      <th>('signal_strength', '88:9C:AD:71:0F:2D', 3)</th>\n",
       "      <th>('signal_strength', '88:9C:AD:71:16:42', 3)</th>\n",
       "      <th>('signal_strength', '88:9C:AD:71:16:4D', 3)</th>\n",
       "      <th>...</th>\n",
       "      <th>('signal_strength', '88:9C:AD:77:CA:2D', 3)</th>\n",
       "      <th>('signal_strength', '88:9C:AD:E0:30:22', 3)</th>\n",
       "      <th>('signal_strength', '88:9C:AD:E0:30:2D', 3)</th>\n",
       "      <th>('signal_strength', '88:9C:AD:E0:88:CD', 3)</th>\n",
       "      <th>('signal_strength', '88:9C:AD:E0:D1:4D', 3)</th>\n",
       "      <th>('signal_strength', '88:9C:AD:E1:1D:42', 3)</th>\n",
       "      <th>('signal_strength', '88:9C:AD:E1:1D:4D', 3)</th>\n",
       "      <th>('signal_strength', '88:9C:AD:E1:20:2D', 3)</th>\n",
       "      <th>('signal_strength', '88:9C:AD:E1:22:6D', 3)</th>\n",
       "      <th>('signal_strength', '88:9C:AD:E1:5E:42', 3)</th>\n",
       "    </tr>\n",
       "  </thead>\n",
       "  <tbody>\n",
       "    <tr>\n",
       "      <th>0</th>\n",
       "      <td>24.0</td>\n",
       "      <td>0.0</td>\n",
       "      <td>30.0</td>\n",
       "      <td>0</td>\n",
       "      <td>0.0</td>\n",
       "      <td>0</td>\n",
       "      <td>0.0</td>\n",
       "      <td>65.0</td>\n",
       "      <td>0</td>\n",
       "      <td>24.0</td>\n",
       "      <td>...</td>\n",
       "      <td>45.0</td>\n",
       "      <td>0</td>\n",
       "      <td>69.0</td>\n",
       "      <td>42.0</td>\n",
       "      <td>0.0</td>\n",
       "      <td>0</td>\n",
       "      <td>34.0</td>\n",
       "      <td>42.0</td>\n",
       "      <td>62.0</td>\n",
       "      <td>0</td>\n",
       "    </tr>\n",
       "    <tr>\n",
       "      <th>1</th>\n",
       "      <td>40.0</td>\n",
       "      <td>0.0</td>\n",
       "      <td>49.0</td>\n",
       "      <td>0</td>\n",
       "      <td>0.0</td>\n",
       "      <td>0</td>\n",
       "      <td>0.0</td>\n",
       "      <td>0.0</td>\n",
       "      <td>0</td>\n",
       "      <td>37.0</td>\n",
       "      <td>...</td>\n",
       "      <td>64.0</td>\n",
       "      <td>0</td>\n",
       "      <td>70.0</td>\n",
       "      <td>52.0</td>\n",
       "      <td>0.0</td>\n",
       "      <td>0</td>\n",
       "      <td>65.0</td>\n",
       "      <td>52.0</td>\n",
       "      <td>70.0</td>\n",
       "      <td>0</td>\n",
       "    </tr>\n",
       "    <tr>\n",
       "      <th>2</th>\n",
       "      <td>19.0</td>\n",
       "      <td>27.0</td>\n",
       "      <td>25.0</td>\n",
       "      <td>0</td>\n",
       "      <td>49.0</td>\n",
       "      <td>0</td>\n",
       "      <td>0.0</td>\n",
       "      <td>62.0</td>\n",
       "      <td>0</td>\n",
       "      <td>0.0</td>\n",
       "      <td>...</td>\n",
       "      <td>40.0</td>\n",
       "      <td>0</td>\n",
       "      <td>64.0</td>\n",
       "      <td>39.0</td>\n",
       "      <td>0.0</td>\n",
       "      <td>0</td>\n",
       "      <td>42.0</td>\n",
       "      <td>40.0</td>\n",
       "      <td>69.0</td>\n",
       "      <td>0</td>\n",
       "    </tr>\n",
       "    <tr>\n",
       "      <th>3</th>\n",
       "      <td>0.0</td>\n",
       "      <td>25.0</td>\n",
       "      <td>0.0</td>\n",
       "      <td>0</td>\n",
       "      <td>49.0</td>\n",
       "      <td>0</td>\n",
       "      <td>49.0</td>\n",
       "      <td>55.0</td>\n",
       "      <td>0</td>\n",
       "      <td>0.0</td>\n",
       "      <td>...</td>\n",
       "      <td>44.0</td>\n",
       "      <td>0</td>\n",
       "      <td>62.0</td>\n",
       "      <td>44.0</td>\n",
       "      <td>47.0</td>\n",
       "      <td>0</td>\n",
       "      <td>44.0</td>\n",
       "      <td>42.0</td>\n",
       "      <td>67.0</td>\n",
       "      <td>0</td>\n",
       "    </tr>\n",
       "    <tr>\n",
       "      <th>4</th>\n",
       "      <td>0.0</td>\n",
       "      <td>32.0</td>\n",
       "      <td>29.0</td>\n",
       "      <td>0</td>\n",
       "      <td>0.0</td>\n",
       "      <td>0</td>\n",
       "      <td>0.0</td>\n",
       "      <td>59.0</td>\n",
       "      <td>0</td>\n",
       "      <td>0.0</td>\n",
       "      <td>...</td>\n",
       "      <td>47.0</td>\n",
       "      <td>0</td>\n",
       "      <td>62.0</td>\n",
       "      <td>39.0</td>\n",
       "      <td>0.0</td>\n",
       "      <td>0</td>\n",
       "      <td>42.0</td>\n",
       "      <td>39.0</td>\n",
       "      <td>69.0</td>\n",
       "      <td>0</td>\n",
       "    </tr>\n",
       "    <tr>\n",
       "      <th>6</th>\n",
       "      <td>24.0</td>\n",
       "      <td>22.0</td>\n",
       "      <td>0.0</td>\n",
       "      <td>0</td>\n",
       "      <td>0.0</td>\n",
       "      <td>0</td>\n",
       "      <td>0.0</td>\n",
       "      <td>52.0</td>\n",
       "      <td>0</td>\n",
       "      <td>0.0</td>\n",
       "      <td>...</td>\n",
       "      <td>39.0</td>\n",
       "      <td>0</td>\n",
       "      <td>57.0</td>\n",
       "      <td>44.0</td>\n",
       "      <td>0.0</td>\n",
       "      <td>0</td>\n",
       "      <td>42.0</td>\n",
       "      <td>37.0</td>\n",
       "      <td>67.0</td>\n",
       "      <td>0</td>\n",
       "    </tr>\n",
       "    <tr>\n",
       "      <th>7</th>\n",
       "      <td>24.0</td>\n",
       "      <td>30.0</td>\n",
       "      <td>32.0</td>\n",
       "      <td>0</td>\n",
       "      <td>44.0</td>\n",
       "      <td>0</td>\n",
       "      <td>55.0</td>\n",
       "      <td>57.0</td>\n",
       "      <td>0</td>\n",
       "      <td>0.0</td>\n",
       "      <td>...</td>\n",
       "      <td>45.0</td>\n",
       "      <td>0</td>\n",
       "      <td>54.0</td>\n",
       "      <td>0.0</td>\n",
       "      <td>50.0</td>\n",
       "      <td>0</td>\n",
       "      <td>0.0</td>\n",
       "      <td>37.0</td>\n",
       "      <td>0.0</td>\n",
       "      <td>0</td>\n",
       "    </tr>\n",
       "    <tr>\n",
       "      <th>8</th>\n",
       "      <td>20.0</td>\n",
       "      <td>30.0</td>\n",
       "      <td>29.0</td>\n",
       "      <td>0</td>\n",
       "      <td>45.0</td>\n",
       "      <td>0</td>\n",
       "      <td>50.0</td>\n",
       "      <td>62.0</td>\n",
       "      <td>0</td>\n",
       "      <td>0.0</td>\n",
       "      <td>...</td>\n",
       "      <td>49.0</td>\n",
       "      <td>0</td>\n",
       "      <td>49.0</td>\n",
       "      <td>0.0</td>\n",
       "      <td>47.0</td>\n",
       "      <td>0</td>\n",
       "      <td>0.0</td>\n",
       "      <td>37.0</td>\n",
       "      <td>0.0</td>\n",
       "      <td>0</td>\n",
       "    </tr>\n",
       "    <tr>\n",
       "      <th>9</th>\n",
       "      <td>24.0</td>\n",
       "      <td>27.0</td>\n",
       "      <td>0.0</td>\n",
       "      <td>0</td>\n",
       "      <td>47.0</td>\n",
       "      <td>0</td>\n",
       "      <td>50.0</td>\n",
       "      <td>62.0</td>\n",
       "      <td>0</td>\n",
       "      <td>0.0</td>\n",
       "      <td>...</td>\n",
       "      <td>45.0</td>\n",
       "      <td>0</td>\n",
       "      <td>0.0</td>\n",
       "      <td>0.0</td>\n",
       "      <td>47.0</td>\n",
       "      <td>0</td>\n",
       "      <td>37.0</td>\n",
       "      <td>39.0</td>\n",
       "      <td>0.0</td>\n",
       "      <td>0</td>\n",
       "    </tr>\n",
       "  </tbody>\n",
       "</table>\n",
       "<p>9 rows × 26 columns</p>\n",
       "</div>"
      ],
      "text/plain": [
       "   ('signal_strength', '88:9C:AD:6F:C4:ED', 3)   \n",
       "0                                         24.0  \\\n",
       "1                                         40.0   \n",
       "2                                         19.0   \n",
       "3                                          0.0   \n",
       "4                                          0.0   \n",
       "6                                         24.0   \n",
       "7                                         24.0   \n",
       "8                                         20.0   \n",
       "9                                         24.0   \n",
       "\n",
       "   ('signal_strength', '88:9C:AD:70:34:CD', 3)   \n",
       "0                                          0.0  \\\n",
       "1                                          0.0   \n",
       "2                                         27.0   \n",
       "3                                         25.0   \n",
       "4                                         32.0   \n",
       "6                                         22.0   \n",
       "7                                         30.0   \n",
       "8                                         30.0   \n",
       "9                                         27.0   \n",
       "\n",
       "   ('signal_strength', '88:9C:AD:70:53:6D', 3)   \n",
       "0                                         30.0  \\\n",
       "1                                         49.0   \n",
       "2                                         25.0   \n",
       "3                                          0.0   \n",
       "4                                         29.0   \n",
       "6                                          0.0   \n",
       "7                                         32.0   \n",
       "8                                         29.0   \n",
       "9                                          0.0   \n",
       "\n",
       "   ('signal_strength', '88:9C:AD:70:BF:22', 3)   \n",
       "0                                            0  \\\n",
       "1                                            0   \n",
       "2                                            0   \n",
       "3                                            0   \n",
       "4                                            0   \n",
       "6                                            0   \n",
       "7                                            0   \n",
       "8                                            0   \n",
       "9                                            0   \n",
       "\n",
       "   ('signal_strength', '88:9C:AD:70:BF:2D', 3)   \n",
       "0                                          0.0  \\\n",
       "1                                          0.0   \n",
       "2                                         49.0   \n",
       "3                                         49.0   \n",
       "4                                          0.0   \n",
       "6                                          0.0   \n",
       "7                                         44.0   \n",
       "8                                         45.0   \n",
       "9                                         47.0   \n",
       "\n",
       "   ('signal_strength', '88:9C:AD:71:0B:E2', 3)   \n",
       "0                                            0  \\\n",
       "1                                            0   \n",
       "2                                            0   \n",
       "3                                            0   \n",
       "4                                            0   \n",
       "6                                            0   \n",
       "7                                            0   \n",
       "8                                            0   \n",
       "9                                            0   \n",
       "\n",
       "   ('signal_strength', '88:9C:AD:71:0B:ED', 3)   \n",
       "0                                          0.0  \\\n",
       "1                                          0.0   \n",
       "2                                          0.0   \n",
       "3                                         49.0   \n",
       "4                                          0.0   \n",
       "6                                          0.0   \n",
       "7                                         55.0   \n",
       "8                                         50.0   \n",
       "9                                         50.0   \n",
       "\n",
       "   ('signal_strength', '88:9C:AD:71:0F:2D', 3)   \n",
       "0                                         65.0  \\\n",
       "1                                          0.0   \n",
       "2                                         62.0   \n",
       "3                                         55.0   \n",
       "4                                         59.0   \n",
       "6                                         52.0   \n",
       "7                                         57.0   \n",
       "8                                         62.0   \n",
       "9                                         62.0   \n",
       "\n",
       "   ('signal_strength', '88:9C:AD:71:16:42', 3)   \n",
       "0                                            0  \\\n",
       "1                                            0   \n",
       "2                                            0   \n",
       "3                                            0   \n",
       "4                                            0   \n",
       "6                                            0   \n",
       "7                                            0   \n",
       "8                                            0   \n",
       "9                                            0   \n",
       "\n",
       "   ('signal_strength', '88:9C:AD:71:16:4D', 3)  ...   \n",
       "0                                         24.0  ...  \\\n",
       "1                                         37.0  ...   \n",
       "2                                          0.0  ...   \n",
       "3                                          0.0  ...   \n",
       "4                                          0.0  ...   \n",
       "6                                          0.0  ...   \n",
       "7                                          0.0  ...   \n",
       "8                                          0.0  ...   \n",
       "9                                          0.0  ...   \n",
       "\n",
       "   ('signal_strength', '88:9C:AD:77:CA:2D', 3)   \n",
       "0                                         45.0  \\\n",
       "1                                         64.0   \n",
       "2                                         40.0   \n",
       "3                                         44.0   \n",
       "4                                         47.0   \n",
       "6                                         39.0   \n",
       "7                                         45.0   \n",
       "8                                         49.0   \n",
       "9                                         45.0   \n",
       "\n",
       "   ('signal_strength', '88:9C:AD:E0:30:22', 3)   \n",
       "0                                            0  \\\n",
       "1                                            0   \n",
       "2                                            0   \n",
       "3                                            0   \n",
       "4                                            0   \n",
       "6                                            0   \n",
       "7                                            0   \n",
       "8                                            0   \n",
       "9                                            0   \n",
       "\n",
       "   ('signal_strength', '88:9C:AD:E0:30:2D', 3)   \n",
       "0                                         69.0  \\\n",
       "1                                         70.0   \n",
       "2                                         64.0   \n",
       "3                                         62.0   \n",
       "4                                         62.0   \n",
       "6                                         57.0   \n",
       "7                                         54.0   \n",
       "8                                         49.0   \n",
       "9                                          0.0   \n",
       "\n",
       "   ('signal_strength', '88:9C:AD:E0:88:CD', 3)   \n",
       "0                                         42.0  \\\n",
       "1                                         52.0   \n",
       "2                                         39.0   \n",
       "3                                         44.0   \n",
       "4                                         39.0   \n",
       "6                                         44.0   \n",
       "7                                          0.0   \n",
       "8                                          0.0   \n",
       "9                                          0.0   \n",
       "\n",
       "   ('signal_strength', '88:9C:AD:E0:D1:4D', 3)   \n",
       "0                                          0.0  \\\n",
       "1                                          0.0   \n",
       "2                                          0.0   \n",
       "3                                         47.0   \n",
       "4                                          0.0   \n",
       "6                                          0.0   \n",
       "7                                         50.0   \n",
       "8                                         47.0   \n",
       "9                                         47.0   \n",
       "\n",
       "   ('signal_strength', '88:9C:AD:E1:1D:42', 3)   \n",
       "0                                            0  \\\n",
       "1                                            0   \n",
       "2                                            0   \n",
       "3                                            0   \n",
       "4                                            0   \n",
       "6                                            0   \n",
       "7                                            0   \n",
       "8                                            0   \n",
       "9                                            0   \n",
       "\n",
       "   ('signal_strength', '88:9C:AD:E1:1D:4D', 3)   \n",
       "0                                         34.0  \\\n",
       "1                                         65.0   \n",
       "2                                         42.0   \n",
       "3                                         44.0   \n",
       "4                                         42.0   \n",
       "6                                         42.0   \n",
       "7                                          0.0   \n",
       "8                                          0.0   \n",
       "9                                         37.0   \n",
       "\n",
       "   ('signal_strength', '88:9C:AD:E1:20:2D', 3)   \n",
       "0                                         42.0  \\\n",
       "1                                         52.0   \n",
       "2                                         40.0   \n",
       "3                                         42.0   \n",
       "4                                         39.0   \n",
       "6                                         37.0   \n",
       "7                                         37.0   \n",
       "8                                         37.0   \n",
       "9                                         39.0   \n",
       "\n",
       "   ('signal_strength', '88:9C:AD:E1:22:6D', 3)   \n",
       "0                                         62.0  \\\n",
       "1                                         70.0   \n",
       "2                                         69.0   \n",
       "3                                         67.0   \n",
       "4                                         69.0   \n",
       "6                                         67.0   \n",
       "7                                          0.0   \n",
       "8                                          0.0   \n",
       "9                                          0.0   \n",
       "\n",
       "   ('signal_strength', '88:9C:AD:E1:5E:42', 3)  \n",
       "0                                            0  \n",
       "1                                            0  \n",
       "2                                            0  \n",
       "3                                            0  \n",
       "4                                            0  \n",
       "6                                            0  \n",
       "7                                            0  \n",
       "8                                            0  \n",
       "9                                            0  \n",
       "\n",
       "[9 rows x 26 columns]"
      ]
     },
     "execution_count": 31,
     "metadata": {},
     "output_type": "execute_result"
    }
   ],
   "source": [
    "tabular[tabular.columns[[1 + 3 + i * 4 for i in range(26)]]]"
   ]
  },
  {
   "cell_type": "code",
   "execution_count": 32,
   "metadata": {},
   "outputs": [
    {
     "name": "stdout",
     "output_type": "stream",
     "text": [
      "device_idx 0: 0.3807112668912448\n",
      "device_idx 1: 0.9739944134757673\n",
      "device_idx 2: 0.1798369690425311\n",
      "device_idx 3: -2.7917007137737464\n"
     ]
    }
   ],
   "source": [
    "# X = tabular.drop(columns=['binned_timestamp', 'population'])\n",
    "# Get only 1st device\n",
    "for device_idx in range(4):\n",
    "    X = tabular[tabular.columns[[1 + device_idx + i * 26 for i in range(4)]]]\n",
    "    y = tabular['population']\n",
    "    x_train, x_test, y_train, y_test = train_test_split(X, y, test_size=0.2, random_state=42)\n",
    "    reg = LinearRegression().fit(x_train, y_train)\n",
    "    print(f\"device_idx {device_idx}: {reg.score(x_test, y_test)}\")"
   ]
  },
  {
   "cell_type": "code",
   "execution_count": 33,
   "metadata": {},
   "outputs": [
    {
     "name": "stdout",
     "output_type": "stream",
     "text": [
      "all devices: 0.8873195857962028\n"
     ]
    }
   ],
   "source": [
    "X = tabular.drop(columns=['binned_timestamp', 'population'])\n",
    "y = tabular['population']\n",
    "x_train, x_test, y_train, y_test = train_test_split(X, y, test_size=0.2, random_state=42)\n",
    "reg = LinearRegression().fit(x_train, y_train)\n",
    "print(f\"all devices: {reg.score(x_test, y_test)}\")"
   ]
  },
  {
   "cell_type": "code",
   "execution_count": 34,
   "metadata": {},
   "outputs": [
    {
     "data": {
      "text/plain": [
       "[0.49212274429140157, 0.7758010337773927, 0.003316653584075624]"
      ]
     },
     "execution_count": 34,
     "metadata": {},
     "output_type": "execute_result"
    }
   ],
   "source": [
    "kf = KFold(n_splits=FOLDS, shuffle=True, random_state=42)\n",
    "scores = []\n",
    "for train_index, test_index in kf.split(X):\n",
    "    x_train, x_test = X.iloc[train_index], X.iloc[test_index]\n",
    "    y_train, y_test = y.iloc[train_index], y.iloc[test_index]\n",
    "    reg = LinearRegression().fit(x_train, y_train)\n",
    "    scores.append(reg.score(x_test, y_test))\n",
    "\n",
    "scores"
   ]
  },
  {
   "cell_type": "markdown",
   "metadata": {},
   "source": [
    "# Polynomial Regression"
   ]
  },
  {
   "cell_type": "code",
   "execution_count": 35,
   "metadata": {},
   "outputs": [],
   "source": [
    "from sklearn.preprocessing import PolynomialFeatures\n",
    "from sklearn.model_selection import train_test_split, KFold"
   ]
  },
  {
   "cell_type": "code",
   "execution_count": 36,
   "metadata": {},
   "outputs": [],
   "source": [
    "FOLDS = 3"
   ]
  },
  {
   "cell_type": "code",
   "execution_count": 37,
   "metadata": {},
   "outputs": [
    {
     "name": "stdout",
     "output_type": "stream",
     "text": [
      "device_idx 0: -160.682024826457\n",
      "device_idx 1: -0.6914399144617851\n",
      "device_idx 2: -3.1616709205003053\n",
      "device_idx 3: -5.578495707065129\n"
     ]
    }
   ],
   "source": [
    "for device_idx in range(4):\n",
    "    X = tabular[tabular.columns[[1 + device_idx + i * 26 for i in range(4)]]]\n",
    "    y = tabular['population']\n",
    "    x_train, x_test, y_train, y_test = train_test_split(X, y, test_size=0.2, random_state=42)\n",
    "    poly_reg = PolynomialFeatures(degree=2)\n",
    "    X_poly = poly_reg.fit_transform(x_train)\n",
    "    reg = LinearRegression().fit(X_poly, y_train)\n",
    "    print(f\"device_idx {device_idx}: {reg.score(poly_reg.transform(x_test), y_test)}\")"
   ]
  },
  {
   "cell_type": "code",
   "execution_count": 38,
   "metadata": {},
   "outputs": [
    {
     "name": "stdout",
     "output_type": "stream",
     "text": [
      "all devices: 0.8430400177153712\n"
     ]
    }
   ],
   "source": [
    "X = tabular.drop(columns=['binned_timestamp', 'population'])\n",
    "y = tabular['population']\n",
    "x_train, x_test, y_train, y_test = train_test_split(X, y, test_size=0.2, random_state=42)\n",
    "poly_reg = PolynomialFeatures(degree=2)\n",
    "X_poly = poly_reg.fit_transform(x_train)\n",
    "reg = LinearRegression().fit(X_poly, y_train)\n",
    "print(f\"all devices: {reg.score(poly_reg.transform(x_test), y_test)}\")"
   ]
  },
  {
   "cell_type": "code",
   "execution_count": 39,
   "metadata": {},
   "outputs": [
    {
     "data": {
      "text/plain": [
       "[0.45277661573577244, 0.7079013774528691, -0.14642144024398895]"
      ]
     },
     "execution_count": 39,
     "metadata": {},
     "output_type": "execute_result"
    }
   ],
   "source": [
    "kf = KFold(n_splits=FOLDS, shuffle=True, random_state=42)\n",
    "scores = []\n",
    "for train_index, test_index in kf.split(X):\n",
    "    x_train, x_test = X.iloc[train_index], X.iloc[test_index]\n",
    "    poly_reg = PolynomialFeatures(degree=2)\n",
    "    X_poly = poly_reg.fit_transform(x_train)\n",
    "    y_train, y_test = y.iloc[train_index], y.iloc[test_index]\n",
    "    reg = LinearRegression().fit(X_poly, y_train)\n",
    "    scores.append(reg.score(poly_reg.transform(x_test), y_test))\n",
    "\n",
    "scores"
   ]
  },
  {
   "cell_type": "markdown",
   "metadata": {},
   "source": [
    "# Support Vector Regression (SVR)"
   ]
  },
  {
   "cell_type": "code",
   "execution_count": 40,
   "metadata": {},
   "outputs": [],
   "source": [
    "from sklearn.svm import SVR"
   ]
  },
  {
   "cell_type": "code",
   "execution_count": 41,
   "metadata": {},
   "outputs": [
    {
     "name": "stdout",
     "output_type": "stream",
     "text": [
      "device_idx 0: -0.27367838647889764\n",
      "device_idx 1: -0.24679794922850617\n",
      "device_idx 2: -0.27098659144607096\n",
      "device_idx 3: -0.2904180254652169\n"
     ]
    }
   ],
   "source": [
    "for device_idx in range(4):\n",
    "    X = tabular[tabular.columns[[1 + device_idx + i * 26 for i in range(4)]]]\n",
    "    y = tabular['population']\n",
    "    x_train, x_test, y_train, y_test = train_test_split(X, y, test_size=0.2, random_state=42)\n",
    "    reg = SVR(kernel = 'rbf').fit(x_train, y_train)\n",
    "    print(f\"device_idx {device_idx}: {reg.score(x_test, y_test)}\")"
   ]
  },
  {
   "cell_type": "code",
   "execution_count": 42,
   "metadata": {},
   "outputs": [
    {
     "name": "stdout",
     "output_type": "stream",
     "text": [
      "all devices: -0.26442973027344685\n"
     ]
    }
   ],
   "source": [
    "X = tabular.drop(columns=['binned_timestamp', 'population'])\n",
    "y = tabular['population']\n",
    "x_train, x_test, y_train, y_test = train_test_split(X, y, test_size=0.2, random_state=42)\n",
    "reg = SVR(kernel = 'rbf').fit(x_train, y_train)\n",
    "print(f\"all devices: {reg.score(x_test, y_test)}\")"
   ]
  },
  {
   "cell_type": "code",
   "execution_count": 43,
   "metadata": {},
   "outputs": [
    {
     "data": {
      "text/plain": [
       "[0.002734159148866766, 0.004416695837261786, -0.9945561706018842]"
      ]
     },
     "execution_count": 43,
     "metadata": {},
     "output_type": "execute_result"
    }
   ],
   "source": [
    "kf = KFold(n_splits=FOLDS, shuffle=True, random_state=42)\n",
    "scores = []\n",
    "for train_index, test_index in kf.split(X):\n",
    "    x_train, x_test = X.iloc[train_index], X.iloc[test_index]\n",
    "    y_train, y_test = y.iloc[train_index], y.iloc[test_index]\n",
    "    reg = SVR(kernel = 'rbf').fit(x_train, y_train)\n",
    "    scores.append(reg.score(x_test, y_test))\n",
    "\n",
    "scores"
   ]
  },
  {
   "cell_type": "markdown",
   "metadata": {},
   "source": [
    "# Decision Tree Regression"
   ]
  },
  {
   "cell_type": "code",
   "execution_count": 44,
   "metadata": {},
   "outputs": [],
   "source": [
    "from sklearn.tree import DecisionTreeRegressor"
   ]
  },
  {
   "cell_type": "code",
   "execution_count": 45,
   "metadata": {},
   "outputs": [
    {
     "name": "stdout",
     "output_type": "stream",
     "text": [
      "device_idx 0: 0.8909008601177003\n",
      "device_idx 1: -1.5337256677229516\n",
      "device_idx 2: -2.768673607967406\n",
      "device_idx 3: -1.213897691263015\n"
     ]
    }
   ],
   "source": [
    "for device_idx in range(4):\n",
    "    X = tabular[tabular.columns[[1 + device_idx + i * 26 for i in range(4)]]]\n",
    "    y = tabular['population']\n",
    "    x_train, x_test, y_train, y_test = train_test_split(X, y, test_size=0.2, random_state=42)\n",
    "    reg = DecisionTreeRegressor(random_state = 42).fit(x_train, y_train)\n",
    "    print(f\"device_idx {device_idx}: {reg.score(x_test, y_test)}\")"
   ]
  },
  {
   "cell_type": "code",
   "execution_count": 46,
   "metadata": {},
   "outputs": [
    {
     "name": "stdout",
     "output_type": "stream",
     "text": [
      "all devices: -1.52286102308737\n"
     ]
    }
   ],
   "source": [
    "X = tabular.drop(columns=['binned_timestamp', 'population'])\n",
    "y = tabular['population']\n",
    "x_train, x_test, y_train, y_test = train_test_split(X, y, test_size=0.2, random_state=42)\n",
    "reg = DecisionTreeRegressor(random_state = 42).fit(x_train, y_train)\n",
    "print(f\"all devices: {reg.score(x_test, y_test)}\")"
   ]
  },
  {
   "cell_type": "code",
   "execution_count": 47,
   "metadata": {},
   "outputs": [
    {
     "data": {
      "text/plain": [
       "[-0.8841957761985786, 0.7936230618038873, -1.1923076923076925]"
      ]
     },
     "execution_count": 47,
     "metadata": {},
     "output_type": "execute_result"
    }
   ],
   "source": [
    "kf = KFold(n_splits=FOLDS, shuffle=True, random_state=42)\n",
    "scores = []\n",
    "for train_index, test_index in kf.split(X):\n",
    "    x_train, x_test = X.iloc[train_index], X.iloc[test_index]\n",
    "    y_train, y_test = y.iloc[train_index], y.iloc[test_index]\n",
    "    reg = DecisionTreeRegressor(random_state = 42).fit(x_train, y_train)\n",
    "    scores.append(reg.score(x_test, y_test))\n",
    "\n",
    "scores"
   ]
  },
  {
   "cell_type": "markdown",
   "metadata": {},
   "source": [
    "# Random Forest Regression"
   ]
  },
  {
   "cell_type": "code",
   "execution_count": 48,
   "metadata": {},
   "outputs": [],
   "source": [
    "from sklearn.ensemble import RandomForestRegressor"
   ]
  },
  {
   "cell_type": "code",
   "execution_count": 49,
   "metadata": {},
   "outputs": [
    {
     "name": "stdout",
     "output_type": "stream",
     "text": [
      "device_idx 0: 0.5570693893126915\n",
      "device_idx 1: -0.07753757169206343\n",
      "device_idx 2: -1.0138461365787594\n",
      "device_idx 3: -0.8907430533991301\n"
     ]
    }
   ],
   "source": [
    "for device_idx in range(4):\n",
    "    X = tabular[tabular.columns[[1 + device_idx + i * 26 for i in range(4)]]]\n",
    "    y = tabular['population']\n",
    "    x_train, x_test, y_train, y_test = train_test_split(X, y, test_size=0.2, random_state=42)\n",
    "    reg = RandomForestRegressor(n_estimators = 55, random_state = 42).fit(x_train, y_train)\n",
    "    print(f\"device_idx {device_idx}: {reg.score(x_test, y_test)}\")"
   ]
  },
  {
   "cell_type": "code",
   "execution_count": 50,
   "metadata": {},
   "outputs": [
    {
     "name": "stdout",
     "output_type": "stream",
     "text": [
      "all devices: -0.13498191096528522\n"
     ]
    }
   ],
   "source": [
    "X = tabular.drop(columns=['binned_timestamp', 'population'])\n",
    "y = tabular['population']\n",
    "x_train, x_test, y_train, y_test = train_test_split(X, y, test_size=0.2, random_state=42)\n",
    "reg = RandomForestRegressor(n_estimators = 55, random_state = 42).fit(x_train, y_train)\n",
    "print(f\"all devices: {reg.score(x_test, y_test)}\")"
   ]
  },
  {
   "cell_type": "code",
   "execution_count": 51,
   "metadata": {},
   "outputs": [
    {
     "data": {
      "text/plain": [
       "[0.11937194714912835, 0.5429238402408407, 0.003846481540951907]"
      ]
     },
     "execution_count": 51,
     "metadata": {},
     "output_type": "execute_result"
    }
   ],
   "source": [
    "kf = KFold(n_splits=FOLDS, shuffle=True, random_state=42)\n",
    "scores = []\n",
    "for train_index, test_index in kf.split(X):\n",
    "    x_train, x_test = X.iloc[train_index], X.iloc[test_index]\n",
    "    y_train, y_test = y.iloc[train_index], y.iloc[test_index]\n",
    "    reg = RandomForestRegressor(n_estimators = 55, random_state = 42).fit(x_train, y_train)\n",
    "    scores.append(reg.score(x_test, y_test))\n",
    "\n",
    "scores"
   ]
  },
  {
   "cell_type": "markdown",
   "metadata": {},
   "source": [
    "# KRR"
   ]
  },
  {
   "cell_type": "code",
   "execution_count": 52,
   "metadata": {},
   "outputs": [],
   "source": [
    "from sklearn.kernel_ridge import KernelRidge"
   ]
  },
  {
   "cell_type": "code",
   "execution_count": 53,
   "metadata": {},
   "outputs": [
    {
     "name": "stdout",
     "output_type": "stream",
     "text": [
      "device_idx 0: -0.02469111085187814\n",
      "device_idx 1: 0.9175442565492857\n",
      "device_idx 2: 0.2926384255212431\n",
      "device_idx 3: -1.874077508896859\n"
     ]
    }
   ],
   "source": [
    "for device_idx in range(4):\n",
    "    X = tabular[tabular.columns[[1 + device_idx + i * 26 for i in range(4)]]]\n",
    "    y = tabular['population']\n",
    "    x_train, x_test, y_train, y_test = train_test_split(X, y, test_size=0.2, random_state=42)\n",
    "    reg = KernelRidge(alpha=1.0).fit(x_train, y_train)\n",
    "    print(f\"device_idx {device_idx}: {reg.score(x_test, y_test)}\")"
   ]
  },
  {
   "cell_type": "code",
   "execution_count": 54,
   "metadata": {},
   "outputs": [
    {
     "name": "stdout",
     "output_type": "stream",
     "text": [
      "all devices: 0.8716330283136664\n"
     ]
    }
   ],
   "source": [
    "X = tabular.drop(columns=['binned_timestamp', 'population'])\n",
    "y = tabular['population']\n",
    "x_train, x_test, y_train, y_test = train_test_split(X, y, test_size=0.2, random_state=42)\n",
    "reg = KernelRidge(alpha=1.0).fit(x_train, y_train)\n",
    "print(f\"all devices: {reg.score(x_test, y_test)}\")"
   ]
  },
  {
   "cell_type": "code",
   "execution_count": 55,
   "metadata": {},
   "outputs": [
    {
     "data": {
      "text/plain": [
       "[0.4818768466806428, 0.8462828415205992, 0.009571805709653991]"
      ]
     },
     "execution_count": 55,
     "metadata": {},
     "output_type": "execute_result"
    }
   ],
   "source": [
    "kf = KFold(n_splits=FOLDS, shuffle=True, random_state=42)\n",
    "scores = []\n",
    "for train_index, test_index in kf.split(X):\n",
    "    x_train, x_test = X.iloc[train_index], X.iloc[test_index]\n",
    "    y_train, y_test = y.iloc[train_index], y.iloc[test_index]\n",
    "    reg = KernelRidge(alpha=1.0).fit(x_train, y_train)\n",
    "    scores.append(reg.score(x_test, y_test))\n",
    "\n",
    "scores"
   ]
  },
  {
   "cell_type": "markdown",
   "metadata": {},
   "source": [
    "# LRR"
   ]
  },
  {
   "cell_type": "code",
   "execution_count": 56,
   "metadata": {},
   "outputs": [],
   "source": [
    "from sklearn.linear_model import RidgeCV"
   ]
  },
  {
   "cell_type": "code",
   "execution_count": 57,
   "metadata": {},
   "outputs": [
    {
     "name": "stdout",
     "output_type": "stream",
     "text": [
      "device_idx 0: 0.3805782266245046\n",
      "device_idx 1: 0.9739456712975032\n",
      "device_idx 2: 0.179698886950711\n",
      "device_idx 3: -2.778794812253846\n"
     ]
    }
   ],
   "source": [
    "for device_idx in range(4):\n",
    "    X = tabular[tabular.columns[[1 + device_idx + i * 26 for i in range(4)]]]\n",
    "    y = tabular['population']\n",
    "    x_train, x_test, y_train, y_test = train_test_split(X, y, test_size=0.2, random_state=42)\n",
    "    reg = RidgeCV(alphas=[1e-3, 1e-2, 1e-1, 1]).fit(x_train, y_train)\n",
    "    print(f\"device_idx {device_idx}: {reg.score(x_test, y_test)}\")"
   ]
  },
  {
   "cell_type": "code",
   "execution_count": 58,
   "metadata": {},
   "outputs": [
    {
     "name": "stdout",
     "output_type": "stream",
     "text": [
      "all devices: 0.8873195743459669\n"
     ]
    }
   ],
   "source": [
    "X = tabular.drop(columns=['binned_timestamp', 'population'])\n",
    "y = tabular['population']\n",
    "x_train, x_test, y_train, y_test = train_test_split(X, y, test_size=0.2, random_state=42)\n",
    "reg = RidgeCV(alphas=[1e-3, 1e-2, 1e-1, 1]).fit(x_train, y_train)\n",
    "print(f\"all devices: {reg.score(x_test, y_test)}\")"
   ]
  },
  {
   "cell_type": "code",
   "execution_count": 59,
   "metadata": {},
   "outputs": [
    {
     "data": {
      "text/plain": [
       "[0.4898696798938097, 0.7758010376654365, 0.0033166511265984022]"
      ]
     },
     "execution_count": 59,
     "metadata": {},
     "output_type": "execute_result"
    }
   ],
   "source": [
    "kf = KFold(n_splits=FOLDS, shuffle=True, random_state=42)\n",
    "scores = []\n",
    "for train_index, test_index in kf.split(X):\n",
    "    x_train, x_test = X.iloc[train_index], X.iloc[test_index]\n",
    "    y_train, y_test = y.iloc[train_index], y.iloc[test_index]\n",
    "    reg = RidgeCV(alphas=[1e-3, 1e-2, 1e-1, 1]).fit(x_train, y_train)\n",
    "    scores.append(reg.score(x_test, y_test))\n",
    "\n",
    "scores"
   ]
  },
  {
   "cell_type": "markdown",
   "metadata": {},
   "source": [
    "# GPR"
   ]
  },
  {
   "cell_type": "code",
   "execution_count": 60,
   "metadata": {},
   "outputs": [],
   "source": [
    "from sklearn.gaussian_process import GaussianProcessRegressor\n",
    "from sklearn.gaussian_process.kernels import DotProduct, WhiteKernel"
   ]
  },
  {
   "cell_type": "code",
   "execution_count": 61,
   "metadata": {},
   "outputs": [
    {
     "name": "stdout",
     "output_type": "stream",
     "text": [
      "device_idx 0: 0.16970125658814073\n",
      "device_idx 1: 0.7263710688150611\n",
      "device_idx 2: 0.1157065396214052\n",
      "device_idx 3: -0.8398982803850457\n"
     ]
    }
   ],
   "source": [
    "for device_idx in range(4):\n",
    "    X = tabular[tabular.columns[[1 + device_idx + i * 26 for i in range(4)]]]\n",
    "    y = tabular['population']\n",
    "    x_train, x_test, y_train, y_test = train_test_split(X, y, test_size=0.2, random_state=42)\n",
    "    kernel = DotProduct() + WhiteKernel()\n",
    "    reg = GaussianProcessRegressor(kernel=kernel, random_state=42).fit(x_train, y_train)\n",
    "    print(f\"device_idx {device_idx}: {reg.score(x_test, y_test)}\")"
   ]
  },
  {
   "cell_type": "code",
   "execution_count": 62,
   "metadata": {},
   "outputs": [
    {
     "name": "stdout",
     "output_type": "stream",
     "text": [
      "all devices: 0.8716333331736785\n"
     ]
    }
   ],
   "source": [
    "X = tabular.drop(columns=['binned_timestamp', 'population'])\n",
    "y = tabular['population']\n",
    "x_train, x_test, y_train, y_test = train_test_split(X, y, test_size=0.2, random_state=42)\n",
    "kernel = DotProduct() + WhiteKernel()\n",
    "reg = GaussianProcessRegressor(kernel=kernel, random_state=42).fit(x_train, y_train)\n",
    "print(f\"all devices: {reg.score(x_test, y_test)}\")"
   ]
  },
  {
   "cell_type": "code",
   "execution_count": 63,
   "metadata": {},
   "outputs": [
    {
     "data": {
      "text/plain": [
       "[0.4818770230571612, 0.846282020173462, 0.00957274631600269]"
      ]
     },
     "execution_count": 63,
     "metadata": {},
     "output_type": "execute_result"
    }
   ],
   "source": [
    "kf = KFold(n_splits=FOLDS, shuffle=True, random_state=42)\n",
    "scores = []\n",
    "for train_index, test_index in kf.split(X):\n",
    "    x_train, x_test = X.iloc[train_index], X.iloc[test_index]\n",
    "    y_train, y_test = y.iloc[train_index], y.iloc[test_index]\n",
    "    kernel = DotProduct() + WhiteKernel()\n",
    "    reg = GaussianProcessRegressor(kernel=kernel, random_state=42).fit(x_train, y_train)\n",
    "    scores.append(reg.score(x_test, y_test))\n",
    "\n",
    "scores"
   ]
  },
  {
   "cell_type": "markdown",
   "metadata": {},
   "source": [
    "# Lasso"
   ]
  },
  {
   "cell_type": "code",
   "execution_count": 64,
   "metadata": {},
   "outputs": [],
   "source": [
    "from sklearn.linear_model import LassoCV"
   ]
  },
  {
   "cell_type": "code",
   "execution_count": 65,
   "metadata": {},
   "outputs": [
    {
     "name": "stdout",
     "output_type": "stream",
     "text": [
      "device_idx 0: -0.1969309226633158\n",
      "device_idx 1: -0.19693092266331647\n",
      "device_idx 2: -0.19693092266331647\n",
      "device_idx 3: -1.7284770515359171\n"
     ]
    }
   ],
   "source": [
    "for device_idx in range(4):\n",
    "    X = tabular[tabular.columns[[1 + device_idx + i * 26 for i in range(4)]]]\n",
    "    y = tabular['population']\n",
    "    x_train, x_test, y_train, y_test = train_test_split(X, y, test_size=0.2, random_state=42)\n",
    "    reg = LassoCV(cv=5, tol=0.1, random_state=42).fit(x_train, y_train)\n",
    "    print(f\"device_idx {device_idx}: {reg.score(x_test, y_test)}\")"
   ]
  },
  {
   "cell_type": "code",
   "execution_count": 66,
   "metadata": {},
   "outputs": [
    {
     "name": "stdout",
     "output_type": "stream",
     "text": [
      "all devices: -2.882221491162689\n"
     ]
    }
   ],
   "source": [
    "X = tabular.drop(columns=['binned_timestamp', 'population'])\n",
    "y = tabular['population']\n",
    "x_train, x_test, y_train, y_test = train_test_split(X, y, test_size=0.2, random_state=42)\n",
    "reg = LassoCV(cv=5, tol=0.1, random_state=42).fit(x_train, y_train)\n",
    "print(f\"all devices: {reg.score(x_test, y_test)}\")"
   ]
  },
  {
   "cell_type": "code",
   "execution_count": 67,
   "metadata": {},
   "outputs": [
    {
     "data": {
      "text/plain": [
       "[0.7856209633953306, -0.08257807381524329, -0.2521908511240294]"
      ]
     },
     "execution_count": 67,
     "metadata": {},
     "output_type": "execute_result"
    }
   ],
   "source": [
    "kf = KFold(n_splits=FOLDS, shuffle=True, random_state=42)\n",
    "scores = []\n",
    "for train_index, test_index in kf.split(X):\n",
    "    x_train, x_test = X.iloc[train_index], X.iloc[test_index]\n",
    "    y_train, y_test = y.iloc[train_index], y.iloc[test_index]\n",
    "    reg = LassoCV(cv=5, random_state=42).fit(x_train, y_train)\n",
    "    scores.append(reg.score(x_test, y_test))\n",
    "\n",
    "scores"
   ]
  },
  {
   "cell_type": "markdown",
   "metadata": {},
   "source": [
    "# Elastic Net"
   ]
  },
  {
   "cell_type": "code",
   "execution_count": 68,
   "metadata": {},
   "outputs": [],
   "source": [
    "from sklearn.linear_model import ElasticNetCV"
   ]
  },
  {
   "cell_type": "code",
   "execution_count": 69,
   "metadata": {},
   "outputs": [
    {
     "name": "stdout",
     "output_type": "stream",
     "text": [
      "device_idx 0: -0.19693092266331647\n",
      "device_idx 1: -0.19693092266331647\n",
      "device_idx 2: -0.19693092266331647\n",
      "device_idx 3: -0.19693092266331647\n"
     ]
    }
   ],
   "source": [
    "for device_idx in range(4):\n",
    "    X = tabular[tabular.columns[[1 + device_idx + i * 26 for i in range(4)]]]\n",
    "    y = tabular['population']\n",
    "    x_train, x_test, y_train, y_test = train_test_split(X, y, test_size=0.2, random_state=42)\n",
    "    reg = ElasticNetCV(cv=5, tol=0.001, random_state=42).fit(x_train, y_train)\n",
    "    print(f\"device_idx {device_idx}: {reg.score(x_test, y_test)}\")"
   ]
  },
  {
   "cell_type": "code",
   "execution_count": 70,
   "metadata": {},
   "outputs": [
    {
     "name": "stdout",
     "output_type": "stream",
     "text": [
      "all devices: 0.7481588678538417\n"
     ]
    }
   ],
   "source": [
    "X = tabular.drop(columns=['binned_timestamp', 'population'])\n",
    "y = tabular['population']\n",
    "x_train, x_test, y_train, y_test = train_test_split(X, y, test_size=0.2, random_state=42)\n",
    "reg = ElasticNetCV(cv=5, tol=0.001, random_state=42).fit(x_train, y_train)\n",
    "print(f\"all devices: {reg.score(x_test, y_test)}\")"
   ]
  },
  {
   "cell_type": "code",
   "execution_count": 71,
   "metadata": {},
   "outputs": [
    {
     "data": {
      "text/plain": [
       "[0.3199168376363939, -0.08257807381524329, -0.14619779790328247]"
      ]
     },
     "execution_count": 71,
     "metadata": {},
     "output_type": "execute_result"
    }
   ],
   "source": [
    "kf = KFold(n_splits=FOLDS, shuffle=True, random_state=42)\n",
    "scores = []\n",
    "for train_index, test_index in kf.split(X):\n",
    "    x_train, x_test = X.iloc[train_index], X.iloc[test_index]\n",
    "    y_train, y_test = y.iloc[train_index], y.iloc[test_index]\n",
    "    reg = ElasticNetCV(cv=5, tol=0.001, random_state=42).fit(x_train, y_train)\n",
    "    scores.append(reg.score(x_test, y_test))\n",
    "\n",
    "scores"
   ]
  },
  {
   "cell_type": "code",
   "execution_count": null,
   "metadata": {},
   "outputs": [],
   "source": []
  }
 ],
 "metadata": {
  "kernelspec": {
   "display_name": "Python 3 (ipykernel)",
   "language": "python",
   "name": "python3"
  },
  "language_info": {
   "codemirror_mode": {
    "name": "ipython",
    "version": 3
   },
   "file_extension": ".py",
   "mimetype": "text/x-python",
   "name": "python",
   "nbconvert_exporter": "python",
   "pygments_lexer": "ipython3",
   "version": "3.9.16"
  }
 },
 "nbformat": 4,
 "nbformat_minor": 2
}
