{
 "cells": [
  {
   "cell_type": "code",
   "execution_count": 2,
   "metadata": {},
   "outputs": [],
   "source": [
    "import os\n",
    "\n",
    "import numpy as np\n",
    "import pandas as pd\n",
    "import matplotlib.pyplot as plt\n",
    "import seaborn as sns\n",
    "from tqdm.auto import tqdm\n",
    "\n",
    "from dataset.build_dataframe import (\n",
    "    get_wifi_dataframe,\n",
    "    get_bluetooth_dataframe,\n",
    "    get_population_count_df,\n",
    "    get_bbox_df,\n",
    "    get_nearest_timestamp,\n",
    "    get_top_N_wifi_aps_only,\n",
    "    pivot_tables,\n",
    "    merge_dfs\n",
    ")"
   ]
  },
  {
   "cell_type": "code",
   "execution_count": 20,
   "metadata": {},
   "outputs": [],
   "source": [
    "sns.set_theme(\"notebook\", \"whitegrid\")"
   ]
  },
  {
   "cell_type": "code",
   "execution_count": 3,
   "metadata": {},
   "outputs": [],
   "source": [
    "RAW_DATA_PATH = \"data/raw_data/\"\n",
    "BBOX_CSV_PATH = \"data/bbox_results.csv\"\n",
    "POPULATION_COUNT_CSV_PATH = \"data/manual_counts.csv\""
   ]
  },
  {
   "cell_type": "code",
   "execution_count": 4,
   "metadata": {},
   "outputs": [
    {
     "data": {
      "application/vnd.jupyter.widget-view+json": {
       "model_id": "33e8c203e6394131abdcf9ea6f319425",
       "version_major": 2,
       "version_minor": 0
      },
      "text/plain": [
       "0it [00:00, ?it/s]"
      ]
     },
     "metadata": {},
     "output_type": "display_data"
    },
    {
     "data": {
      "application/vnd.jupyter.widget-view+json": {
       "model_id": "f9db9de7e8e44371ae1ef8b3d122a152",
       "version_major": 2,
       "version_minor": 0
      },
      "text/plain": [
       "0it [00:00, ?it/s]"
      ]
     },
     "metadata": {},
     "output_type": "display_data"
    }
   ],
   "source": [
    "wifi_df = get_wifi_dataframe(RAW_DATA_PATH)\n",
    "bt_df = get_bluetooth_dataframe(RAW_DATA_PATH)\n",
    "bbox_df = get_bbox_df(BBOX_CSV_PATH, [\"timestamp\", \"device_idx\", \"bbox_count\"])\n",
    "population_count_df = get_population_count_df(POPULATION_COUNT_CSV_PATH, [\"timestamp\", \"count\", \"comment\"])"
   ]
  },
  {
   "cell_type": "code",
   "execution_count": 5,
   "metadata": {},
   "outputs": [],
   "source": [
    "for df in [wifi_df, bt_df, bbox_df]:\n",
    "    df[\"timestamp\"] = df[\"timestamp\"].apply(\n",
    "        lambda x: get_nearest_timestamp(x, population_count_df[\"timestamp\"])\n",
    "    )"
   ]
  },
  {
   "cell_type": "code",
   "execution_count": 6,
   "metadata": {},
   "outputs": [],
   "source": [
    "top_5_wifi_df = get_top_N_wifi_aps_only(wifi_df, 5)"
   ]
  },
  {
   "cell_type": "code",
   "execution_count": 7,
   "metadata": {},
   "outputs": [],
   "source": [
    "wifi_tabular, bt_tabular, bbox_tabular = pivot_tables(top_5_wifi_df, bt_df, bbox_df)"
   ]
  },
  {
   "cell_type": "code",
   "execution_count": 19,
   "metadata": {},
   "outputs": [],
   "source": [
    "combined_tabular = merge_dfs(wifi_tabular, bt_tabular, bbox_tabular, population_count_df)"
   ]
  },
  {
   "cell_type": "markdown",
   "metadata": {},
   "source": [
    "# Machine Learning"
   ]
  },
  {
   "cell_type": "code",
   "execution_count": 9,
   "metadata": {},
   "outputs": [],
   "source": [
    "from sklearn.linear_model import LinearRegression\n",
    "from sklearn.model_selection import train_test_split, KFold"
   ]
  },
  {
   "cell_type": "code",
   "execution_count": 10,
   "metadata": {},
   "outputs": [],
   "source": [
    "FOLDS = 3"
   ]
  },
  {
   "cell_type": "markdown",
   "metadata": {},
   "source": [
    "## With Koufu Data"
   ]
  },
  {
   "cell_type": "code",
   "execution_count": 11,
   "metadata": {},
   "outputs": [],
   "source": [
    "X = combined_tabular.drop(columns=['timestamp', 'count', 'comment']).to_numpy()\n",
    "y = combined_tabular[\"count\"].to_numpy()"
   ]
  },
  {
   "cell_type": "code",
   "execution_count": 12,
   "metadata": {},
   "outputs": [
    {
     "data": {
      "text/plain": [
       "[0.7163506576791634, 0.4864512686403619, -4.583583358514798]"
      ]
     },
     "execution_count": 12,
     "metadata": {},
     "output_type": "execute_result"
    }
   ],
   "source": [
    "kf = KFold(n_splits=FOLDS, shuffle=True, random_state=42)\n",
    "scores = []\n",
    "models = []\n",
    "results = []\n",
    "for train_index, test_index in kf.split(X):\n",
    "    X_train, X_test = X[train_index], X[test_index]\n",
    "    y_train, y_test = y[train_index], y[test_index]\n",
    "    reg = LinearRegression().fit(X_train, y_train)\n",
    "    scores.append(reg.score(X_test, y_test))\n",
    "    models.append(reg)\n",
    "    results.append([reg.predict(X_test), y_test])\n",
    "\n",
    "scores"
   ]
  },
  {
   "cell_type": "code",
   "execution_count": 13,
   "metadata": {},
   "outputs": [
    {
     "name": "stdout",
     "output_type": "stream",
     "text": [
      "[(\"('bt_device_count', 0)\", 1.3149322265424659), (\"('signal_strength', 0, 3)\", 0.9520134240198961), (\"('signal_strength', 0, 5)\", 0.9049181267506936), (\"('bt_device_count', 1)\", 0.8185001999156386), (\"('signal_strength', 3, 4)\", 0.7782172263359662), (\"('bt_device_count', 3)\", 0.6968934278066079), (\"('bt_device_count', 2)\", 0.5160368997885905), (\"('signal_strength', 3, 5)\", 0.46825119129154646), (\"('bbox_count', 3)\", 0.3930520239951808), (\"('bbox_count', 0)\", 0.35154403020247144), (\"('signal_strength', 2, 5)\", 0.2916738289043958), (\"('signal_strength', 0, 4)\", 0.2887710767541241), (\"('bbox_count', 1)\", 0.28760461589396263), (\"('signal_strength', 1, 2)\", 0.2766073354134049), (\"('signal_strength', 3, 3)\", 0.27046630323784654), (\"('signal_strength', 2, 2)\", 0.14044330029235746), (\"('signal_strength', 1, 1)\", 0.12954485260739498), (\"('signal_strength', 2, 4)\", 0.05138446207658409), (\"('signal_strength', 1, 5)\", 0.03329263226732729), (\"('bbox_count', 2)\", 0.0055010366774178344), (\"('signal_strength', 1, 4)\", -0.022392233116699252), (\"('signal_strength', 2, 3)\", -0.14412570162604024), (\"('signal_strength', 3, 1)\", -0.19881209238676342), (\"('signal_strength', 2, 1)\", -0.5392882717944913), (\"('signal_strength', 0, 2)\", -0.588983064307102), (\"('signal_strength', 3, 2)\", -0.8480057832426808), (\"('signal_strength', 1, 3)\", -1.09367368580327), (\"('signal_strength', 0, 1)\", -1.3629917751569534)]\n",
      "[(\"('bt_device_count', 3)\", 1.3485895728965018), (\"('bbox_count', 3)\", 1.067732887813032), (\"('bbox_count', 0)\", 1.037700374622841), (\"('signal_strength', 0, 2)\", 0.8838362611437758), (\"('bbox_count', 1)\", 0.7836105423053554), (\"('bt_device_count', 1)\", 0.7100275489624469), (\"('signal_strength', 3, 5)\", 0.5908236743595519), (\"('signal_strength', 0, 3)\", 0.43394080671885105), (\"('bt_device_count', 0)\", 0.2586286335010496), (\"('signal_strength', 2, 1)\", 0.2193799213417559), (\"('bbox_count', 2)\", 0.20686904089066901), (\"('signal_strength', 3, 3)\", 0.14436316696246687), (\"('signal_strength', 1, 5)\", 0.08277853655221512), (\"('signal_strength', 0, 5)\", 0.06932211634950915), (\"('bt_device_count', 2)\", 0.050587123887926265), (\"('signal_strength', 2, 4)\", 0.015467118777101777), (\"('signal_strength', 1, 1)\", -0.05616075916412124), (\"('signal_strength', 3, 4)\", -0.08375254470252741), (\"('signal_strength', 2, 3)\", -0.08600656050911949), (\"('signal_strength', 1, 2)\", -0.08865363453080818), (\"('signal_strength', 2, 2)\", -0.0888084613839195), (\"('signal_strength', 2, 5)\", -0.11494624505937161), (\"('signal_strength', 1, 4)\", -0.16880070158784907), (\"('signal_strength', 0, 4)\", -0.3601005429155135), (\"('signal_strength', 3, 1)\", -0.3753243300872477), (\"('signal_strength', 3, 2)\", -0.38198489832019794), (\"('signal_strength', 0, 1)\", -0.6466891565616761), (\"('signal_strength', 1, 3)\", -0.8786302830164351)]\n",
      "[(\"('bt_device_count', 1)\", 1.4618479032883491), (\"('signal_strength', 0, 2)\", 1.1245357772685212), (\"('bbox_count', 3)\", 1.0631984700867185), (\"('bt_device_count', 2)\", 1.0163891857984002), (\"('signal_strength', 0, 5)\", 0.6567953528381002), (\"('signal_strength', 1, 1)\", 0.6006039014532212), (\"('bbox_count', 0)\", 0.5928315858177494), (\"('signal_strength', 1, 2)\", 0.4800989268408943), (\"('bt_device_count', 3)\", 0.4208043412124423), (\"('signal_strength', 2, 5)\", 0.3833409446938337), (\"('signal_strength', 2, 4)\", 0.3632233717702817), (\"('signal_strength', 3, 5)\", 0.28931126602246227), (\"('signal_strength', 1, 5)\", 0.2696212787371358), (\"('signal_strength', 3, 4)\", 0.14155354676978962), (\"('signal_strength', 1, 4)\", 0.12438803292231179), (\"('bt_device_count', 0)\", 0.12053094736153806), (\"('signal_strength', 1, 3)\", 0.09051540543322814), (\"('signal_strength', 3, 2)\", -0.06529883838859127), (\"('signal_strength', 0, 3)\", -0.0815463514685602), (\"('bbox_count', 1)\", -0.18570325055535647), (\"('bbox_count', 2)\", -0.2244402824365199), (\"('signal_strength', 0, 4)\", -0.23732728754547996), (\"('signal_strength', 2, 3)\", -0.2925423525046918), (\"('signal_strength', 3, 3)\", -0.3223247888705934), (\"('signal_strength', 2, 1)\", -0.5730575944326317), (\"('signal_strength', 3, 1)\", -0.5885470973147233), (\"('signal_strength', 2, 2)\", -0.6147353096200638), (\"('signal_strength', 0, 1)\", -0.9694173240762347)]\n"
     ]
    }
   ],
   "source": [
    "for model in models:\n",
    "    coef = model.coef_\n",
    "    print(\n",
    "        sorted(\n",
    "            list(\n",
    "                zip(\n",
    "                    combined_tabular.drop(\n",
    "                        columns=[\"timestamp\", \"count\", \"comment\"]\n",
    "                    ).columns,\n",
    "                    coef,\n",
    "                )\n",
    "            ),\n",
    "            key=lambda x: x[1],\n",
    "            reverse=True,\n",
    "        )\n",
    "    )"
   ]
  },
  {
   "cell_type": "code",
   "execution_count": 14,
   "metadata": {},
   "outputs": [
    {
     "data": {
      "text/plain": [
       "[array([ 1.05468175, 42.45575997, 39.61887437, 47.84671164, 49.38998772,\n",
       "        27.87475325]),\n",
       " array([23., 34., 21., 38., 31., 23.])]"
      ]
     },
     "execution_count": 14,
     "metadata": {},
     "output_type": "execute_result"
    }
   ],
   "source": [
    "results[2]"
   ]
  },
  {
   "cell_type": "markdown",
   "metadata": {},
   "source": [
    "## With Koufu data as test set"
   ]
  },
  {
   "cell_type": "code",
   "execution_count": 15,
   "metadata": {},
   "outputs": [
    {
     "name": "stdout",
     "output_type": "stream",
     "text": [
      "0.741699457671144\n",
      "[ 90.98560711  73.6952661  108.54242302 278.6231129 ] [ 23.  40.  62. 251.]\n"
     ]
    }
   ],
   "source": [
    "X_train, X_test = X[0:14], X[14:]\n",
    "y_train, y_test = y[0:14], y[14:]\n",
    "reg = LinearRegression().fit(X_train, y_train)\n",
    "print(reg.score(X_test, y_test))\n",
    "print(reg.predict(X_test), y_test)"
   ]
  },
  {
   "cell_type": "markdown",
   "metadata": {},
   "source": [
    "Using 1 sample of the Koufu set for calibration:"
   ]
  },
  {
   "cell_type": "code",
   "execution_count": 16,
   "metadata": {},
   "outputs": [],
   "source": [
    "from sklearn.metrics import r2_score"
   ]
  },
  {
   "cell_type": "code",
   "execution_count": 17,
   "metadata": {},
   "outputs": [
    {
     "name": "stdout",
     "output_type": "stream",
     "text": [
      "-0.2730434837284408\n",
      "0.6415923536617594\n",
      "0.712379573123959\n",
      "-6.131964552892656\n"
     ]
    }
   ],
   "source": [
    "for idx in range(4):\n",
    "    alpha = y_test[idx] / reg.predict(X_test[idx].reshape(1, -1))\n",
    "    indices = list(set(list(range(4))).difference({idx}))\n",
    "    preds = reg.predict(X_test[indices]) * alpha\n",
    "    print(r2_score(y_test[indices], preds))"
   ]
  },
  {
   "cell_type": "code",
   "execution_count": null,
   "metadata": {},
   "outputs": [],
   "source": []
  }
 ],
 "metadata": {
  "kernelspec": {
   "display_name": "INF2009-T10-Project-2QmQoMHE",
   "language": "python",
   "name": "python3"
  },
  "language_info": {
   "codemirror_mode": {
    "name": "ipython",
    "version": 3
   },
   "file_extension": ".py",
   "mimetype": "text/x-python",
   "name": "python",
   "nbconvert_exporter": "python",
   "pygments_lexer": "ipython3",
   "version": "3.12.1"
  }
 },
 "nbformat": 4,
 "nbformat_minor": 2
}
